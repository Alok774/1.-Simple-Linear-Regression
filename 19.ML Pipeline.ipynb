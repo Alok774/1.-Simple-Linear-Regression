{
 "cells": [
  {
   "cell_type": "code",
   "execution_count": 14,
   "id": "5fff6569",
   "metadata": {},
   "outputs": [],
   "source": [
    "# importinng packages\n",
    "import pandas as pd\n",
    "from sklearn.model_selection import train_test_split\n",
    "from sklearn.preprocessing import MinMaxScaler\n",
    "from sklearn.decomposition import PCA\n",
    "from sklearn.pipeline import Pipeline\n",
    "from sklearn.linear_model import LogisticRegression\n",
    "from sklearn.tree import DecisionTreeClassifier\n",
    "from sklearn.ensemble import RandomForestClassifier\n",
    "\n",
    "# Filtering Warnings\n",
    "import warnings\n",
    "warnings.filterwarnings('ignore')"
   ]
  },
  {
   "cell_type": "code",
   "execution_count": 15,
   "id": "f4461af3",
   "metadata": {},
   "outputs": [
    {
     "data": {
      "text/html": [
       "<div>\n",
       "<style scoped>\n",
       "    .dataframe tbody tr th:only-of-type {\n",
       "        vertical-align: middle;\n",
       "    }\n",
       "\n",
       "    .dataframe tbody tr th {\n",
       "        vertical-align: top;\n",
       "    }\n",
       "\n",
       "    .dataframe thead th {\n",
       "        text-align: right;\n",
       "    }\n",
       "</style>\n",
       "<table border=\"1\" class=\"dataframe\">\n",
       "  <thead>\n",
       "    <tr style=\"text-align: right;\">\n",
       "      <th></th>\n",
       "      <th>Pregnancies</th>\n",
       "      <th>Glucose</th>\n",
       "      <th>BloodPressure</th>\n",
       "      <th>SkinThickness</th>\n",
       "      <th>Insulin</th>\n",
       "      <th>BMI</th>\n",
       "      <th>DiabetesPedigreeFunction</th>\n",
       "      <th>Age</th>\n",
       "      <th>Class</th>\n",
       "    </tr>\n",
       "  </thead>\n",
       "  <tbody>\n",
       "    <tr>\n",
       "      <th>0</th>\n",
       "      <td>6</td>\n",
       "      <td>148</td>\n",
       "      <td>72</td>\n",
       "      <td>35</td>\n",
       "      <td>0</td>\n",
       "      <td>33.6</td>\n",
       "      <td>0.627</td>\n",
       "      <td>50</td>\n",
       "      <td>1</td>\n",
       "    </tr>\n",
       "    <tr>\n",
       "      <th>1</th>\n",
       "      <td>1</td>\n",
       "      <td>85</td>\n",
       "      <td>66</td>\n",
       "      <td>29</td>\n",
       "      <td>0</td>\n",
       "      <td>26.6</td>\n",
       "      <td>0.351</td>\n",
       "      <td>31</td>\n",
       "      <td>0</td>\n",
       "    </tr>\n",
       "    <tr>\n",
       "      <th>2</th>\n",
       "      <td>8</td>\n",
       "      <td>183</td>\n",
       "      <td>64</td>\n",
       "      <td>0</td>\n",
       "      <td>0</td>\n",
       "      <td>23.3</td>\n",
       "      <td>0.672</td>\n",
       "      <td>32</td>\n",
       "      <td>1</td>\n",
       "    </tr>\n",
       "    <tr>\n",
       "      <th>3</th>\n",
       "      <td>1</td>\n",
       "      <td>89</td>\n",
       "      <td>66</td>\n",
       "      <td>23</td>\n",
       "      <td>94</td>\n",
       "      <td>28.1</td>\n",
       "      <td>0.167</td>\n",
       "      <td>21</td>\n",
       "      <td>0</td>\n",
       "    </tr>\n",
       "    <tr>\n",
       "      <th>4</th>\n",
       "      <td>0</td>\n",
       "      <td>137</td>\n",
       "      <td>40</td>\n",
       "      <td>35</td>\n",
       "      <td>168</td>\n",
       "      <td>43.1</td>\n",
       "      <td>2.288</td>\n",
       "      <td>33</td>\n",
       "      <td>1</td>\n",
       "    </tr>\n",
       "  </tbody>\n",
       "</table>\n",
       "</div>"
      ],
      "text/plain": [
       "   Pregnancies  Glucose  BloodPressure  SkinThickness  Insulin   BMI  \\\n",
       "0            6      148             72             35        0  33.6   \n",
       "1            1       85             66             29        0  26.6   \n",
       "2            8      183             64              0        0  23.3   \n",
       "3            1       89             66             23       94  28.1   \n",
       "4            0      137             40             35      168  43.1   \n",
       "\n",
       "   DiabetesPedigreeFunction  Age  Class  \n",
       "0                     0.627   50      1  \n",
       "1                     0.351   31      0  \n",
       "2                     0.672   32      1  \n",
       "3                     0.167   21      0  \n",
       "4                     2.288   33      1  "
      ]
     },
     "execution_count": 15,
     "metadata": {},
     "output_type": "execute_result"
    }
   ],
   "source": [
    "# Importing Diabetes Data\n",
    "DiabetesData= pd.read_csv('pima-indians-diabetes.csv')\n",
    "DiabetesData.head()"
   ]
  },
  {
   "cell_type": "code",
   "execution_count": 16,
   "id": "b9cba3fd",
   "metadata": {},
   "outputs": [],
   "source": [
    "X=DiabetesData.iloc[:,0:8]\n",
    "y=DiabetesData.iloc[:,8]"
   ]
  },
  {
   "cell_type": "code",
   "execution_count": 17,
   "id": "5563c6fe",
   "metadata": {},
   "outputs": [],
   "source": [
    "# Dividing Data in test and train\n",
    "X_train,X_test,y_train,y_test=train_test_split(X,y,test_size=0.2,random_state=1)"
   ]
  },
  {
   "cell_type": "markdown",
   "id": "b027b0ac",
   "metadata": {},
   "source": [
    "**Creating pipelines**\n",
    "\n",
    "creating pipeline for logistic regression,Descision Tree and Random Forest models\n",
    "\n",
    "**Pipeline steps will include**\n",
    "\n",
    "------------------------------\n",
    "\n",
    "* 1.Data Preprocessing using MinMax Scaler\n",
    "\n",
    "* 2.Reducing Dimensionality using PCA3\n",
    "\n",
    "* 3.Training respective models"
   ]
  },
  {
   "cell_type": "code",
   "execution_count": 18,
   "id": "32242420",
   "metadata": {},
   "outputs": [],
   "source": [
    "# Logistic Regression Pipeline\n",
    "LogisticRegressionPipeline = Pipeline([('myscaler',MinMaxScaler()),\n",
    "                                      ('mypca',PCA(n_components=3)),\n",
    "                                      ('logistic_classifier',LogisticRegression())])"
   ]
  },
  {
   "cell_type": "code",
   "execution_count": 19,
   "id": "f1c506d1",
   "metadata": {},
   "outputs": [],
   "source": [
    "# DecisionTree Pipeline\n",
    "DecisionTreePipeline = Pipeline([('myscaler',MinMaxScaler()),\n",
    "                                      ('mypca',PCA(n_components=3)),\n",
    "                                      ('decisiontree_classifier',DecisionTreeClassifier())])"
   ]
  },
  {
   "cell_type": "code",
   "execution_count": 20,
   "id": "fbd1be58",
   "metadata": {},
   "outputs": [],
   "source": [
    "# Random Forest Pipeline\n",
    "RandomForestPipeline = Pipeline([('myscaler',MinMaxScaler()),\n",
    "                                      ('mypca',PCA(n_components=3)),\n",
    "                                      ('randomforest_classifier',RandomForestClassifier())])"
   ]
  },
  {
   "cell_type": "markdown",
   "id": "b33cd945",
   "metadata": {},
   "source": [
    "# Modeling and Evalution"
   ]
  },
  {
   "cell_type": "code",
   "execution_count": 21,
   "id": "7f82a5af",
   "metadata": {},
   "outputs": [],
   "source": [
    "## Defining the pipelines in a list\n",
    "mypipeline=[LogisticRegressionPipeline,DecisionTreePipeline,RandomForestPipeline]"
   ]
  },
  {
   "cell_type": "code",
   "execution_count": 24,
   "id": "9b8c7074",
   "metadata": {},
   "outputs": [],
   "source": [
    "# fit the pipelines\n",
    "for mypipe in mypipeline:\n",
    "    mypipe.fit(X_train,y_train)"
   ]
  },
  {
   "cell_type": "code",
   "execution_count": 25,
   "id": "8555c02f",
   "metadata": {},
   "outputs": [],
   "source": [
    "# Defining variabbles for choosing best model\n",
    "accuracy=0.0\n",
    "classifier=0\n",
    "pipeline=''"
   ]
  },
  {
   "cell_type": "code",
   "execution_count": 32,
   "id": "89ac489b",
   "metadata": {},
   "outputs": [],
   "source": [
    "#creating dictionary of pipelines and training models\n",
    "PipelineDict={0:'Logistic Regression',1:'Decission Tree',2:'Random Forest'}"
   ]
  },
  {
   "cell_type": "code",
   "execution_count": 33,
   "id": "e0c0c266",
   "metadata": {},
   "outputs": [
    {
     "name": "stdout",
     "output_type": "stream",
     "text": [
      "Logistic Regression Test Accuracy: 0.7597402597402597\n",
      "Decission Tree Test Accuracy: 0.6818181818181818\n",
      "Random Forest Test Accuracy: 0.7987012987012987\n"
     ]
    }
   ],
   "source": [
    "#getting test accuracy for all classifiers\n",
    "for i,model in enumerate(mypipeline):\n",
    "    print('{} Test Accuracy: {}'.format(PipelineDict[i],model.score(X_test,y_test)))"
   ]
  },
  {
   "cell_type": "code",
   "execution_count": 36,
   "id": "0e597036",
   "metadata": {},
   "outputs": [
    {
     "name": "stdout",
     "output_type": "stream",
     "text": [
      "Classifier with best accuracy:Random Forest\n"
     ]
    }
   ],
   "source": [
    "#Choosing best model for the given data\n",
    "for i,model in enumerate(mypipeline):\n",
    "    if model.score(X_test,y_test):\n",
    "        accuracy=model.score(X_test,y_test)\n",
    "        pipeline=model\n",
    "        classifier=i\n",
    "print('Classifier with best accuracy:{}'.format(PipelineDict[classifier]))    "
   ]
  },
  {
   "cell_type": "code",
   "execution_count": null,
   "id": "9adef48d",
   "metadata": {},
   "outputs": [],
   "source": []
  }
 ],
 "metadata": {
  "kernelspec": {
   "display_name": "Python 3 (ipykernel)",
   "language": "python",
   "name": "python3"
  },
  "language_info": {
   "codemirror_mode": {
    "name": "ipython",
    "version": 3
   },
   "file_extension": ".py",
   "mimetype": "text/x-python",
   "name": "python",
   "nbconvert_exporter": "python",
   "pygments_lexer": "ipython3",
   "version": "3.9.13"
  }
 },
 "nbformat": 4,
 "nbformat_minor": 5
}
