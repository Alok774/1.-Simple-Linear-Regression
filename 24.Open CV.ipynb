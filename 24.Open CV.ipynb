{
 "cells": [
  {
   "cell_type": "code",
   "execution_count": 1,
   "id": "237e9534",
   "metadata": {},
   "outputs": [
    {
     "name": "stdout",
     "output_type": "stream",
     "text": [
      "Requirement already satisfied: opencv-python in g:\\anaconda\\lib\\site-packages (4.7.0.72)\n",
      "Requirement already satisfied: numpy>=1.17.0 in g:\\anaconda\\lib\\site-packages (from opencv-python) (1.21.5)\n",
      "Note: you may need to restart the kernel to use updated packages.\n"
     ]
    }
   ],
   "source": [
    "pip install opencv-python"
   ]
  },
  {
   "cell_type": "code",
   "execution_count": 2,
   "id": "82318d36",
   "metadata": {},
   "outputs": [],
   "source": [
    "import cv2\n",
    "import numpy as np"
   ]
  },
  {
   "cell_type": "code",
   "execution_count": 3,
   "id": "b47d46c4",
   "metadata": {},
   "outputs": [
    {
     "data": {
      "text/plain": [
       "'C:\\\\Users\\\\Alok'"
      ]
     },
     "execution_count": 3,
     "metadata": {},
     "output_type": "execute_result"
    }
   ],
   "source": [
    "pwd"
   ]
  },
  {
   "cell_type": "markdown",
   "id": "f0bc0e4a",
   "metadata": {},
   "source": [
    "# Load / Read image"
   ]
  },
  {
   "cell_type": "code",
   "execution_count": 4,
   "id": "f07f2b93",
   "metadata": {},
   "outputs": [],
   "source": [
    "# Load an immage\n",
    "img=cv2.imread('Modi.jpg',1)"
   ]
  },
  {
   "cell_type": "markdown",
   "id": "e31cff5f",
   "metadata": {},
   "source": [
    "Let's take a closer look at how image are stored"
   ]
  },
  {
   "cell_type": "code",
   "execution_count": 5,
   "id": "653052cb",
   "metadata": {},
   "outputs": [
    {
     "name": "stdout",
     "output_type": "stream",
     "text": [
      "[[[255 255 255]\n",
      "  [255 255 255]\n",
      "  [255 255 255]\n",
      "  ...\n",
      "  [255 255 255]\n",
      "  [255 255 255]\n",
      "  [255 255 255]]\n",
      "\n",
      " [[255 255 255]\n",
      "  [255 255 255]\n",
      "  [255 255 255]\n",
      "  ...\n",
      "  [255 255 255]\n",
      "  [255 255 255]\n",
      "  [255 255 255]]\n",
      "\n",
      " [[255 255 255]\n",
      "  [255 255 255]\n",
      "  [255 255 255]\n",
      "  ...\n",
      "  [255 255 255]\n",
      "  [255 255 255]\n",
      "  [255 255 255]]\n",
      "\n",
      " ...\n",
      "\n",
      " [[255 255 255]\n",
      "  [255 255 255]\n",
      "  [255 255 255]\n",
      "  ...\n",
      "  [255 255 255]\n",
      "  [255 255 255]\n",
      "  [255 255 255]]\n",
      "\n",
      " [[255 255 255]\n",
      "  [255 255 255]\n",
      "  [255 255 255]\n",
      "  ...\n",
      "  [255 255 255]\n",
      "  [255 255 255]\n",
      "  [255 255 255]]\n",
      "\n",
      " [[255 255 255]\n",
      "  [255 255 255]\n",
      "  [255 255 255]\n",
      "  ...\n",
      "  [255 255 255]\n",
      "  [255 255 255]\n",
      "  [255 255 255]]]\n"
     ]
    }
   ],
   "source": [
    "print(img)"
   ]
  },
  {
   "cell_type": "code",
   "execution_count": 6,
   "id": "ac5c389a",
   "metadata": {},
   "outputs": [
    {
     "data": {
      "text/plain": [
       "(1358, 1500, 3)"
      ]
     },
     "execution_count": 6,
     "metadata": {},
     "output_type": "execute_result"
    }
   ],
   "source": [
    "#shape gives dimension of the image\n",
    "img.shape"
   ]
  },
  {
   "cell_type": "code",
   "execution_count": 7,
   "id": "b25f9154",
   "metadata": {},
   "outputs": [],
   "source": [
    "#Displa image\n",
    "cv2.imshow('PM',img)\n",
    "#'waitkey'\n",
    "cv2.waitKey(200)\n",
    "\n",
    "cv2.destroyAllWindows()"
   ]
  },
  {
   "cell_type": "code",
   "execution_count": 8,
   "id": "396077cb",
   "metadata": {},
   "outputs": [],
   "source": [
    "img=cv2.imread('Modi.jpg')\n",
    "cv2.imshow('PM', img)\n",
    "cv2.waitKey()\n",
    "cv2.destroyAllWindows()"
   ]
  },
  {
   "cell_type": "code",
   "execution_count": 9,
   "id": "67da90a0",
   "metadata": {},
   "outputs": [
    {
     "data": {
      "text/plain": [
       "True"
      ]
     },
     "execution_count": 9,
     "metadata": {},
     "output_type": "execute_result"
    }
   ],
   "source": [
    "#save image\n",
    "cv2.imwrite('pm_b_w.jpg',img)"
   ]
  },
  {
   "cell_type": "code",
   "execution_count": 10,
   "id": "e28e541e",
   "metadata": {},
   "outputs": [],
   "source": [
    "#Resize Image\n",
    "img=cv2.imread('Modi.jpg')\n",
    "\n",
    "resized_image=cv2.resize(img,(500,500))\n",
    "gray=cv2.cvtColor(resized_image,cv2.COLOR_BGR2GRAY)\n",
    "cv2.imshow('Modi Imag',gray)\n",
    "cv2.waitKey()\n",
    "cv2.destroyAllWindows()"
   ]
  },
  {
   "cell_type": "code",
   "execution_count": 11,
   "id": "fbb9c257",
   "metadata": {},
   "outputs": [
    {
     "data": {
      "text/plain": [
       "679.0"
      ]
     },
     "execution_count": 11,
     "metadata": {},
     "output_type": "execute_result"
    }
   ],
   "source": [
    "img.shape[0]*0.5"
   ]
  },
  {
   "cell_type": "code",
   "execution_count": 12,
   "id": "559c4d57",
   "metadata": {},
   "outputs": [
    {
     "data": {
      "text/plain": [
       "750.0"
      ]
     },
     "execution_count": 12,
     "metadata": {},
     "output_type": "execute_result"
    }
   ],
   "source": [
    "img.shape[1]*0.5"
   ]
  },
  {
   "cell_type": "markdown",
   "id": "2467405e",
   "metadata": {},
   "source": [
    "# Face Detection using HAAR Cascade Classifiers"
   ]
  },
  {
   "cell_type": "code",
   "execution_count": 13,
   "id": "01e64524",
   "metadata": {},
   "outputs": [],
   "source": [
    "face_classifier=cv2.CascadeClassifier('haarcascade_frontalface_default.xml')\n",
    "#Load our image then convert it to grayscale\n",
    "image=cv2.imread(\"Modi.jpg\")\n",
    "image=cv2.resize(img,(500,500))\n",
    "gray=cv2.cvtColor(image,cv2.COLOR_BGR2GRAY)\n",
    "#Tunning casecade classifiers\n",
    "faces=face_classifier.detectMultiScale(gray,1.05,5)"
   ]
  },
  {
   "cell_type": "code",
   "execution_count": 14,
   "id": "4d42cf6f",
   "metadata": {},
   "outputs": [
    {
     "name": "stdout",
     "output_type": "stream",
     "text": [
      "[[205  79 217 217]]\n"
     ]
    }
   ],
   "source": [
    "print(faces)"
   ]
  },
  {
   "cell_type": "code",
   "execution_count": 15,
   "id": "b5141a0a",
   "metadata": {},
   "outputs": [
    {
     "name": "stderr",
     "output_type": "stream",
     "text": [
      "<>:11: SyntaxWarning: \"is\" with a literal. Did you mean \"==\"?\n",
      "<>:11: SyntaxWarning: \"is\" with a literal. Did you mean \"==\"?\n",
      "C:\\Users\\Alok\\AppData\\Local\\Temp\\ipykernel_9212\\3730808640.py:11: SyntaxWarning: \"is\" with a literal. Did you mean \"==\"?\n",
      "  if faces is ():\n"
     ]
    }
   ],
   "source": [
    "face_classifier=cv2.CascadeClassifier('haarcascade_frontalface_default.xml')\n",
    "\n",
    "#Load our image then convert it to grayscale\n",
    "image=cv2.imread(\"Modi.jpg\")\n",
    "image=cv2.resize(image,(500,500))\n",
    "gray=cv2.cvtColor(image,cv2.COLOR_BGR2GRAY)\n",
    "\n",
    "#Tunning casecade classifiers\n",
    "faces=face_classifier.detectMultiScale(gray,1.05,5)\n",
    "\n",
    "if faces is ():\n",
    "    print('No faces found')\n",
    "for(x,y,w,h) in faces:\n",
    "    cv2.rectangle(image,(x,y),(x+w,y+h),(0,255,100),1)\n",
    "cv2.imshow('Face Detection',image)\n",
    "cv2.waitKey()\n",
    "cv2.destroyAllWindows()"
   ]
  },
  {
   "cell_type": "markdown",
   "id": "45bb2c74",
   "metadata": {},
   "source": [
    "# Face & Eye Detection using HAAR Cascade Classifiers in Image"
   ]
  },
  {
   "cell_type": "code",
   "execution_count": 16,
   "id": "b787ad5c",
   "metadata": {},
   "outputs": [
    {
     "name": "stderr",
     "output_type": "stream",
     "text": [
      "<>:11: SyntaxWarning: \"is\" with a literal. Did you mean \"==\"?\n",
      "<>:11: SyntaxWarning: \"is\" with a literal. Did you mean \"==\"?\n",
      "C:\\Users\\Alok\\AppData\\Local\\Temp\\ipykernel_9212\\1688810624.py:11: SyntaxWarning: \"is\" with a literal. Did you mean \"==\"?\n",
      "  if faces is ():\n"
     ]
    }
   ],
   "source": [
    "face_classifier=cv2.CascadeClassifier('haarcascade_frontalface_default.xml')\n",
    "eye_classifier=cv2.CascadeClassifier('haarcascade_eye.xml')\n",
    "\n",
    "img=cv2.imread('modi.jpg')\n",
    "resized_image=cv2.resize(img,(500,500))\n",
    "gray=cv2.cvtColor(resized_image,cv2.COLOR_BGR2GRAY)\n",
    "\n",
    "faces=face_classifier.detectMultiScale(gray,1.3,5)\n",
    "\n",
    "#when no faces detected,face calssifier return and empty tuple\n",
    "if faces is ():\n",
    "    print('No Face Found')\n",
    "for (x,y,w,h) in faces:\n",
    "    cv2.rectangle(resized_image,(x,y),(x+w,y+h),(255,0,0),2)\n",
    "    roi_gray=gray[y:y+h,x:x+w]\n",
    "    roi_color=resized_image[y:y+h,x:x+w]\n",
    "    eyes=eye_classifier.detectMultiScale(roi_gray)\n",
    "    for(ex,ey,ew,eh) in eyes:\n",
    "        cv2.rectangle(roi_color,(ex,ey),(ex+ew,ey+eh),(0,255,0),2)\n",
    "cv2.imshow('img',resized_image)\n",
    "cv2.waitKey(0)\n",
    "cv2.destroyAllWindows()"
   ]
  },
  {
   "cell_type": "markdown",
   "id": "bd02d596",
   "metadata": {},
   "source": [
    "# Capture a video"
   ]
  },
  {
   "cell_type": "code",
   "execution_count": 17,
   "id": "67e435bd",
   "metadata": {},
   "outputs": [],
   "source": [
    "#  doing some Face recognition with the webcam\n",
    "import cv2\n",
    "video=cv2.VideoCapture(0) #0--webcam\n",
    "while True:\n",
    "    check,frame=video.read()\n",
    "    gray=cv2.cvtColor(frame,cv2.COLOR_BGR2GRAY)\n",
    "    cv2.imshow('Video',gray)\n",
    "    if cv2.waitKey(1)==ord('q'):\n",
    "        break\n",
    "video.release()\n",
    "cv2.destroyAllWindows()"
   ]
  },
  {
   "cell_type": "markdown",
   "id": "c335a789",
   "metadata": {},
   "source": [
    "# Face & Eye Detection using HAAR Cascade Classifiers"
   ]
  },
  {
   "cell_type": "code",
   "execution_count": 18,
   "id": "a8c036fe",
   "metadata": {},
   "outputs": [],
   "source": [
    "#\n",
    "face_cascade=cv2.CascadeClassifier('haarcascade_frontalface_default.xml')\n",
    "eye_cascade=cv2.CascadeClassifier('haarcascade_eye.xml')\n",
    "\n",
    "def detect(gray,frame):\n",
    "    faces=face_cascade.detectMultiScale(gray,1.3,5)\n",
    "    for (x,y,w,h) in faces:\n",
    "         cv2.rectangle(frame,(x,y),(x+w,y+h),(255,0,0),2)\n",
    "         roi_gray=gray[y:y+h,x:x+w]\n",
    "         roi_color=resized_image[y:y+h,x:x+w]\n",
    "         eyes=eye_classifier.detectMultiScale(roi_gray)\n",
    "         for(ex,ey,ew,eh) in eyes:\n",
    "            cv2.rectangle(roi_color,(ex,ey),(ex+ew,ey+eh),(0,255,0),2)\n",
    "    return frame\n",
    "\n",
    "#Doing some face recognition with the webcam\n",
    "video=cv2.VideoCapture(0)\n",
    "\n",
    "while True:\n",
    "     check,frame=video.read()\n",
    "     gray=cv2.cvtColor(frame,cv2.COLOR_BGR2GRAY)\n",
    "     canvas=detect(gray,frame)\n",
    "     cv2.imshow('video',canvas)\n",
    "     if cv2.waitKey(1)==ord('q'):\n",
    "         break\n",
    "   \n",
    "video.release()\n",
    "cv2.destroyAllWindows()\n",
    "    "
   ]
  },
  {
   "cell_type": "markdown",
   "id": "4f4b6470",
   "metadata": {},
   "source": [
    "# Pedistrain Detection"
   ]
  },
  {
   "cell_type": "code",
   "execution_count": 19,
   "id": "ddfa5712",
   "metadata": {},
   "outputs": [],
   "source": [
    "import cv2\n",
    "#body\n",
    "body_classifier=cv2.CascadeClassifier('haarcascade_fullbody.xml')\n",
    "cap=cv2.VideoCapture(\"walking.avi\")\n",
    "#Loop\n",
    "while cap.isOpened():\n",
    "    \n",
    "    #read first frame\n",
    "    check,frame=cap.read()\n",
    "    gray=cv2.cvtColor(frame,cv2.COLOR_BGR2GRAY)\n",
    "    \n",
    "    #pass from to our body classifier\n",
    "    bodies=body_classifier.detectMultiScale(gray,1.2,3)\n",
    "    \n",
    "    #Extract bounding boxes for any bodies identified\n",
    "    for(x,y,w,h) in bodies:\n",
    "        cv2.rectangle(frame,(x,y),(x+w,y+h),(255,0,0),2)\n",
    "        cv2.imshow('Pedestrains',frame)\n",
    "    if cv2.waitKey(1)==ord('q'):\n",
    "        break\n",
    "\n",
    "cap.release()\n",
    "cv2.destroyAllWindows()"
   ]
  },
  {
   "cell_type": "code",
   "execution_count": 20,
   "id": "1f8efb20",
   "metadata": {},
   "outputs": [],
   "source": [
    "import time\n",
    "# Create our body classifier\n",
    "car_classifier=cv2.CascadeClassifier('haarcascade_car.xml')\n",
    "\n",
    "# Initiate video capture for video file\n",
    "cap=cv2.VideoCapture('cars.avi')\n",
    "\n",
    "# loop once video is successfully loadded\n",
    "while cap.isOpened():\n",
    "    time.sleep(.05)\n",
    "    # Read first frame\n",
    "    check,frame=cap.read()\n",
    "    gray=cv2.cvtColor(frame,cv2.COLOR_BGR2GRAY)\n",
    "    \n",
    "    # pass frame to our car cassifier \n",
    "    cars=car_classifier.detectMultiScale(gray,1.4,2)\n",
    "    \n",
    "    #Extract bounding boxes for any bodies identified\n",
    "    for(x,y,w,h) in cars:\n",
    "        cv2.rectangle(frame,(x,y),(x+w,y+h),(0,255),2)\n",
    "        cv2.imshow('Cars',frame)\n",
    "    if cv2.waitKey(1)==ord('q'):\n",
    "        break\n",
    "\n",
    "cap.release()\n",
    "cv2.destroyAllWindows()"
   ]
  },
  {
   "cell_type": "raw",
   "id": "858e05a5",
   "metadata": {},
   "source": []
  }
 ],
 "metadata": {
  "kernelspec": {
   "display_name": "Python 3 (ipykernel)",
   "language": "python",
   "name": "python3"
  },
  "language_info": {
   "codemirror_mode": {
    "name": "ipython",
    "version": 3
   },
   "file_extension": ".py",
   "mimetype": "text/x-python",
   "name": "python",
   "nbconvert_exporter": "python",
   "pygments_lexer": "ipython3",
   "version": "3.9.13"
  }
 },
 "nbformat": 4,
 "nbformat_minor": 5
}
