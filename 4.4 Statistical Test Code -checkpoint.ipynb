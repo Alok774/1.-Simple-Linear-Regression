{
 "cells": [
  {
   "cell_type": "markdown",
   "id": "ec080351",
   "metadata": {},
   "source": [
    "* What is meant by a statistical test? \n",
    "\n",
    "A statistical test provides a mechanism for making quantitative decisions about a process or processes."
   ]
  },
  {
   "cell_type": "markdown",
   "id": "dbabcb58",
   "metadata": {},
   "source": [
    "* What is type of statistical test?\n",
    "\n",
    "Different Types of Statistical Tests: Concepts - Data Analytics\n",
    "In conclusion, there are two main types of statistical tests: parametric and non-parametric. \n",
    "\n",
    "Parametric tests make certain assumptions about the data, while non-parametric tests do not make any assumptions about the data.\n",
    "\n",
    "Both types of tests are used to make inferences about a population based on a sample."
   ]
  },
  {
   "cell_type": "code",
   "execution_count": 4,
   "id": "b37088a9",
   "metadata": {},
   "outputs": [],
   "source": [
    "import numpy as np\n",
    "import pandas as pd\n",
    "import matplotlib.pyplot as plt\n",
    "import seaborn as sns"
   ]
  },
  {
   "cell_type": "code",
   "execution_count": 6,
   "id": "c0b478a4",
   "metadata": {},
   "outputs": [],
   "source": [
    "from scipy import stats"
   ]
  },
  {
   "cell_type": "markdown",
   "id": "daeee6d5",
   "metadata": {},
   "source": [
    "# Fabric data"
   ]
  },
  {
   "cell_type": "code",
   "execution_count": 7,
   "id": "6bf4465a",
   "metadata": {},
   "outputs": [
    {
     "data": {
      "text/html": [
       "<div>\n",
       "<style scoped>\n",
       "    .dataframe tbody tr th:only-of-type {\n",
       "        vertical-align: middle;\n",
       "    }\n",
       "\n",
       "    .dataframe tbody tr th {\n",
       "        vertical-align: top;\n",
       "    }\n",
       "\n",
       "    .dataframe thead th {\n",
       "        text-align: right;\n",
       "    }\n",
       "</style>\n",
       "<table border=\"1\" class=\"dataframe\">\n",
       "  <thead>\n",
       "    <tr style=\"text-align: right;\">\n",
       "      <th></th>\n",
       "      <th>Fabric_length</th>\n",
       "    </tr>\n",
       "  </thead>\n",
       "  <tbody>\n",
       "    <tr>\n",
       "      <th>0</th>\n",
       "      <td>151.2</td>\n",
       "    </tr>\n",
       "    <tr>\n",
       "      <th>1</th>\n",
       "      <td>160.3</td>\n",
       "    </tr>\n",
       "    <tr>\n",
       "      <th>2</th>\n",
       "      <td>147.5</td>\n",
       "    </tr>\n",
       "    <tr>\n",
       "      <th>3</th>\n",
       "      <td>149.2</td>\n",
       "    </tr>\n",
       "    <tr>\n",
       "      <th>4</th>\n",
       "      <td>159.2</td>\n",
       "    </tr>\n",
       "  </tbody>\n",
       "</table>\n",
       "</div>"
      ],
      "text/plain": [
       "   Fabric_length\n",
       "0          151.2\n",
       "1          160.3\n",
       "2          147.5\n",
       "3          149.2\n",
       "4          159.2"
      ]
     },
     "execution_count": 7,
     "metadata": {},
     "output_type": "execute_result"
    }
   ],
   "source": [
    "fabric=pd.read_excel('Fabric data.xlsx')\n",
    "fabric.head()"
   ]
  },
  {
   "cell_type": "markdown",
   "id": "3c628a0c",
   "metadata": {},
   "source": [
    "**Step 1. Formulatin of Ho,Ha\n",
    "* Ho:Mean >= 150\n",
    "* Ha:Mean < 150\n",
    "\n",
    "**Step 2. Select level of significance\n",
    "* alpha=0.05\n",
    "\n",
    "**"
   ]
  }
 ],
 "metadata": {
  "kernelspec": {
   "display_name": "Python 3 (ipykernel)",
   "language": "python",
   "name": "python3"
  },
  "language_info": {
   "codemirror_mode": {
    "name": "ipython",
    "version": 3
   },
   "file_extension": ".py",
   "mimetype": "text/x-python",
   "name": "python",
   "nbconvert_exporter": "python",
   "pygments_lexer": "ipython3",
   "version": "3.9.13"
  }
 },
 "nbformat": 4,
 "nbformat_minor": 5
}
