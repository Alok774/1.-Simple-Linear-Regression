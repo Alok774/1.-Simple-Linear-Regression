{
 "cells": [
  {
   "cell_type": "markdown",
   "id": "c6281165",
   "metadata": {},
   "source": [
    "# Introduction\n",
    "* Numpy is a open source Python Library that aid in mathematical and scientific programming.\n",
    "* It is used for working with arrays,Linear algebra,Fourier transform & nd metrics.\n",
    "* In Python list  of array are very slow, but in numpy arrray object 50 times faster than list.\n",
    "* It perform mathematical and statistical operation due to it's fast & memory efficient.It is optimized to work with least cpu architecture.\n",
    "* When axis=0 ------>column , axis=1------>row"
   ]
  },
  {
   "cell_type": "code",
   "execution_count": 1,
   "id": "dc61c621",
   "metadata": {},
   "outputs": [
    {
     "data": {
      "text/plain": [
       "'1.21.5'"
      ]
     },
     "execution_count": 1,
     "metadata": {},
     "output_type": "execute_result"
    }
   ],
   "source": [
    "import numpy as np\n",
    "np.__version__ # check virsion of numpy"
   ]
  },
  {
   "cell_type": "markdown",
   "id": "c3a9f712",
   "metadata": {},
   "source": [
    "# **ndarray:-** numpy.array(object)\n",
    "* It is created using an array function in numpy."
   ]
  },
  {
   "cell_type": "code",
   "execution_count": 2,
   "id": "6515af79",
   "metadata": {},
   "outputs": [
    {
     "name": "stdout",
     "output_type": "stream",
     "text": [
      "[1 2 3 4 5]\n"
     ]
    },
    {
     "data": {
      "text/plain": [
       "array([1, 2, 3, 4, 5])"
      ]
     },
     "execution_count": 2,
     "metadata": {},
     "output_type": "execute_result"
    }
   ],
   "source": [
    "a=[1,2,3,4,5]\n",
    "b=np.array(a)\n",
    "print(b)\n",
    "b"
   ]
  },
  {
   "cell_type": "code",
   "execution_count": 3,
   "id": "81d810cf",
   "metadata": {},
   "outputs": [
    {
     "name": "stdout",
     "output_type": "stream",
     "text": [
      "<class 'numpy.ndarray'>\n"
     ]
    }
   ],
   "source": [
    "print(type(b))"
   ]
  },
  {
   "cell_type": "markdown",
   "id": "43365ff9",
   "metadata": {},
   "source": [
    "# Creating Numpy Arrays from a list\n",
    "**1. Zero Dimensional Array**"
   ]
  },
  {
   "cell_type": "code",
   "execution_count": 4,
   "id": "9524899f",
   "metadata": {},
   "outputs": [
    {
     "name": "stdout",
     "output_type": "stream",
     "text": [
      "42\n"
     ]
    },
    {
     "data": {
      "text/plain": [
       "numpy.ndarray"
      ]
     },
     "execution_count": 4,
     "metadata": {},
     "output_type": "execute_result"
    }
   ],
   "source": [
    "arr=np.array(42)\n",
    "print(arr)\n",
    "type(arr)"
   ]
  },
  {
   "cell_type": "raw",
   "id": "8f2f53ed",
   "metadata": {},
   "source": [
    "arr.shape"
   ]
  },
  {
   "cell_type": "markdown",
   "id": "251f85d7",
   "metadata": {},
   "source": [
    "To check No. of dimension of array"
   ]
  },
  {
   "cell_type": "code",
   "execution_count": 5,
   "id": "32ee0b67",
   "metadata": {},
   "outputs": [
    {
     "name": "stdout",
     "output_type": "stream",
     "text": [
      "No. of dimension is 0\n"
     ]
    }
   ],
   "source": [
    "print('No. of dimension is', arr.ndim)"
   ]
  },
  {
   "cell_type": "markdown",
   "id": "76b1fae4",
   "metadata": {},
   "source": [
    "**2.One Dimensional Array**"
   ]
  },
  {
   "cell_type": "code",
   "execution_count": 6,
   "id": "4a9183a9",
   "metadata": {},
   "outputs": [
    {
     "name": "stdout",
     "output_type": "stream",
     "text": [
      "[0 1 2 3]\n"
     ]
    },
    {
     "data": {
      "text/plain": [
       "numpy.ndarray"
      ]
     },
     "execution_count": 6,
     "metadata": {},
     "output_type": "execute_result"
    }
   ],
   "source": [
    "a=np.array([0,1,2,3])\n",
    "print(a)\n",
    "type(a)"
   ]
  },
  {
   "cell_type": "code",
   "execution_count": 7,
   "id": "bcc4be08",
   "metadata": {},
   "outputs": [
    {
     "data": {
      "text/plain": [
       "(4,)"
      ]
     },
     "execution_count": 7,
     "metadata": {},
     "output_type": "execute_result"
    }
   ],
   "source": [
    "a.shape"
   ]
  },
  {
   "cell_type": "code",
   "execution_count": 8,
   "id": "ee0f623a",
   "metadata": {},
   "outputs": [
    {
     "data": {
      "text/plain": [
       "1"
      ]
     },
     "execution_count": 8,
     "metadata": {},
     "output_type": "execute_result"
    }
   ],
   "source": [
    "a.ndim #To check No. of dimension of array"
   ]
  },
  {
   "cell_type": "markdown",
   "id": "9c518382",
   "metadata": {},
   "source": [
    "**3.Two Dimensional Array**"
   ]
  },
  {
   "cell_type": "code",
   "execution_count": 9,
   "id": "4dd4ae6a",
   "metadata": {},
   "outputs": [
    {
     "name": "stdout",
     "output_type": "stream",
     "text": [
      "[[0 1 2]\n",
      " [3 4 5]]\n"
     ]
    },
    {
     "data": {
      "text/plain": [
       "numpy.ndarray"
      ]
     },
     "execution_count": 9,
     "metadata": {},
     "output_type": "execute_result"
    }
   ],
   "source": [
    "c=[0,1,2],[3,4,5]\n",
    "c=np.array([[0,1,2],[3,4,5]])\n",
    "print(c)\n",
    "type(c)"
   ]
  },
  {
   "cell_type": "code",
   "execution_count": 10,
   "id": "a94c1a8a",
   "metadata": {},
   "outputs": [
    {
     "data": {
      "text/plain": [
       "(2, 3)"
      ]
     },
     "execution_count": 10,
     "metadata": {},
     "output_type": "execute_result"
    }
   ],
   "source": [
    "c.shape"
   ]
  },
  {
   "cell_type": "code",
   "execution_count": 11,
   "id": "ffa39233",
   "metadata": {},
   "outputs": [
    {
     "data": {
      "text/plain": [
       "2"
      ]
     },
     "execution_count": 11,
     "metadata": {},
     "output_type": "execute_result"
    }
   ],
   "source": [
    "c.ndim #To check No. of dimension of array"
   ]
  },
  {
   "cell_type": "code",
   "execution_count": 12,
   "id": "e1ac84dd",
   "metadata": {},
   "outputs": [
    {
     "name": "stdout",
     "output_type": "stream",
     "text": [
      "[[1 2 3]\n",
      " [4 5 6]\n",
      " [7 8 9]]\n"
     ]
    },
    {
     "data": {
      "text/plain": [
       "numpy.ndarray"
      ]
     },
     "execution_count": 12,
     "metadata": {},
     "output_type": "execute_result"
    }
   ],
   "source": [
    "# Matrix\n",
    "my_matrix=[[1,2,3],[4,5,6],[7,8,9]]\n",
    "matrix=np.array(my_matrix)\n",
    "print(matrix)\n",
    "type(matrix)"
   ]
  },
  {
   "cell_type": "code",
   "execution_count": 13,
   "id": "498f2c68",
   "metadata": {},
   "outputs": [
    {
     "data": {
      "text/plain": [
       "(3, 3)"
      ]
     },
     "execution_count": 13,
     "metadata": {},
     "output_type": "execute_result"
    }
   ],
   "source": [
    "matrix.shape"
   ]
  },
  {
   "cell_type": "code",
   "execution_count": 14,
   "id": "72fc6ca5",
   "metadata": {},
   "outputs": [
    {
     "data": {
      "text/plain": [
       "2"
      ]
     },
     "execution_count": 14,
     "metadata": {},
     "output_type": "execute_result"
    }
   ],
   "source": [
    "matrix.ndim"
   ]
  },
  {
   "cell_type": "code",
   "execution_count": 150,
   "id": "fe75bce0",
   "metadata": {},
   "outputs": [
    {
     "name": "stdout",
     "output_type": "stream",
     "text": [
      "[[10 20]\n",
      " [30 40]]\n"
     ]
    },
    {
     "data": {
      "text/plain": [
       "40"
      ]
     },
     "execution_count": 150,
     "metadata": {},
     "output_type": "execute_result"
    }
   ],
   "source": [
    "a=np.array([[10,20],[30,40]])\n",
    "print(a)\n",
    "a[1,1]"
   ]
  },
  {
   "cell_type": "code",
   "execution_count": 152,
   "id": "bda791b2",
   "metadata": {},
   "outputs": [
    {
     "data": {
      "text/plain": [
       "array([[10, 20],\n",
       "       [30, 25]])"
      ]
     },
     "execution_count": 152,
     "metadata": {},
     "output_type": "execute_result"
    }
   ],
   "source": [
    "# assigning value\n",
    "a[1,1]=25\n",
    "a"
   ]
  },
  {
   "cell_type": "markdown",
   "id": "8453217f",
   "metadata": {},
   "source": [
    "# Function for creating array:-"
   ]
  },
  {
   "cell_type": "markdown",
   "id": "d9d40a09",
   "metadata": {},
   "source": [
    "**arange:-**\n",
    "\n",
    "* Syntax : np.arange (start,end,step)\n",
    "* It is an array-valued version of the built-in python range function"
   ]
  },
  {
   "cell_type": "code",
   "execution_count": 21,
   "id": "b5c4528b",
   "metadata": {},
   "outputs": [
    {
     "name": "stdout",
     "output_type": "stream",
     "text": [
      "[ 10  20  30  40  50  60  70  80  90 100]\n"
     ]
    }
   ],
   "source": [
    "arr=np.arange(10,101,10)\n",
    "print(arr)"
   ]
  },
  {
   "cell_type": "markdown",
   "id": "5cf883b0",
   "metadata": {},
   "source": [
    "**linspace**\n",
    "* Syntax : np.linspace (start,end,num_of_samples)\n",
    "* Return evenly spaced numbers over a specified interval"
   ]
  },
  {
   "cell_type": "code",
   "execution_count": 35,
   "id": "08e0bca8",
   "metadata": {},
   "outputs": [
    {
     "data": {
      "text/plain": [
       "array([ 0.,  1.,  2.,  3.,  4.,  5.,  6.,  7.,  8.,  9., 10.])"
      ]
     },
     "execution_count": 35,
     "metadata": {},
     "output_type": "execute_result"
    }
   ],
   "source": [
    "l=np.linspace (0,10,11)\n",
    "l"
   ]
  },
  {
   "cell_type": "markdown",
   "id": "225a7f68",
   "metadata": {},
   "source": [
    "**zeros:-**\n",
    "* Syntax : np.zeros(shape)\n",
    "* Generate arrays of zeros"
   ]
  },
  {
   "cell_type": "code",
   "execution_count": 40,
   "id": "ae5f3d4a",
   "metadata": {},
   "outputs": [
    {
     "data": {
      "text/plain": [
       "array([0.])"
      ]
     },
     "execution_count": 40,
     "metadata": {},
     "output_type": "execute_result"
    }
   ],
   "source": [
    "np.zeros(1)"
   ]
  },
  {
   "cell_type": "code",
   "execution_count": 45,
   "id": "f5e5519b",
   "metadata": {},
   "outputs": [
    {
     "data": {
      "text/plain": [
       "array([0., 0., 0., 0., 0.])"
      ]
     },
     "execution_count": 45,
     "metadata": {},
     "output_type": "execute_result"
    }
   ],
   "source": [
    "np.zeros(5,)"
   ]
  },
  {
   "cell_type": "code",
   "execution_count": 49,
   "id": "4f646b20",
   "metadata": {},
   "outputs": [
    {
     "data": {
      "text/plain": [
       "array([[0., 0.],\n",
       "       [0., 0.]])"
      ]
     },
     "execution_count": 49,
     "metadata": {},
     "output_type": "execute_result"
    }
   ],
   "source": [
    "np.zeros((2,2))"
   ]
  },
  {
   "cell_type": "markdown",
   "id": "a69004f4",
   "metadata": {},
   "source": [
    "**ones:-**\n",
    "* Syntax : np.ones(shape)\n",
    "* Generate arrays of zeros"
   ]
  },
  {
   "cell_type": "code",
   "execution_count": 54,
   "id": "26abfb56",
   "metadata": {},
   "outputs": [
    {
     "data": {
      "text/plain": [
       "array([1, 1, 1, 1, 1])"
      ]
     },
     "execution_count": 54,
     "metadata": {},
     "output_type": "execute_result"
    }
   ],
   "source": [
    "np.ones((5),dtype=int)"
   ]
  },
  {
   "cell_type": "markdown",
   "id": "83da150a",
   "metadata": {},
   "source": [
    "**random.randint :-**\n",
    "* Syntax : np.random.randint (start,end,num_of_samples)\n",
    "* Return random integers from start(incusive) to end(exclusive)"
   ]
  },
  {
   "cell_type": "code",
   "execution_count": 55,
   "id": "329e898e",
   "metadata": {},
   "outputs": [
    {
     "data": {
      "text/plain": [
       "array([ 3,  1,  5,  6, 12])"
      ]
     },
     "execution_count": 55,
     "metadata": {},
     "output_type": "execute_result"
    }
   ],
   "source": [
    "np.random.randint(1,20,5) # randomly choose 5 num from 1 to 20"
   ]
  },
  {
   "cell_type": "markdown",
   "id": "b8a49f5c",
   "metadata": {},
   "source": [
    "**Flattening :** Converting nd array to 1D array"
   ]
  },
  {
   "cell_type": "code",
   "execution_count": 153,
   "id": "9ac1af3b",
   "metadata": {},
   "outputs": [
    {
     "data": {
      "text/plain": [
       "array([0, 1, 2, 3, 4, 5])"
      ]
     },
     "execution_count": 153,
     "metadata": {},
     "output_type": "execute_result"
    }
   ],
   "source": [
    "a=np.array([[0,1,2],[3,4,5]])\n",
    "a.ravel()"
   ]
  },
  {
   "cell_type": "markdown",
   "id": "ba18733b",
   "metadata": {},
   "source": [
    "**Reshape :**Any shape can be converted"
   ]
  },
  {
   "cell_type": "code",
   "execution_count": 157,
   "id": "7238030e",
   "metadata": {},
   "outputs": [
    {
     "name": "stdout",
     "output_type": "stream",
     "text": [
      "[ 0  1  2  3  4  5  6  7  8  9 10 11 12 13 14 15 16 17 18 19]\n",
      "(20,)\n"
     ]
    }
   ],
   "source": [
    "arr=np.arange(20)\n",
    "print(arr)\n",
    "print(arr.shape)"
   ]
  },
  {
   "cell_type": "code",
   "execution_count": 165,
   "id": "1b58096b",
   "metadata": {},
   "outputs": [
    {
     "data": {
      "text/plain": [
       "array([[ 0,  1,  2,  3],\n",
       "       [ 4,  5,  6,  7],\n",
       "       [ 8,  9, 10, 11],\n",
       "       [12, 13, 14, 15],\n",
       "       [16, 17, 18, 19]])"
      ]
     },
     "execution_count": 165,
     "metadata": {},
     "output_type": "execute_result"
    }
   ],
   "source": [
    "a1=arr.reshape(5,4) # 5*4=20\n",
    "a1"
   ]
  },
  {
   "cell_type": "markdown",
   "id": "1d0f7889",
   "metadata": {},
   "source": [
    "**Transpose array :** convert row into column"
   ]
  },
  {
   "cell_type": "code",
   "execution_count": 169,
   "id": "0a0a4205",
   "metadata": {},
   "outputs": [
    {
     "name": "stdout",
     "output_type": "stream",
     "text": [
      "[[ 0  4  8 12 16]\n",
      " [ 1  5  9 13 17]\n",
      " [ 2  6 10 14 18]\n",
      " [ 3  7 11 15 19]]\n"
     ]
    }
   ],
   "source": [
    "c=a1.T\n",
    "print(c)"
   ]
  },
  {
   "cell_type": "markdown",
   "id": "08795e2a",
   "metadata": {},
   "source": [
    "# **Accessing elements**\n",
    "* 1.Accessing a single value through Indexing\n",
    "* 2.Accessing a multiple values based on slicing\n",
    "* 3.Accessing a multiple values based on Indexing\n",
    "* 4.Accessing a multiple values based on condition"
   ]
  },
  {
   "cell_type": "markdown",
   "id": "a567a176",
   "metadata": {},
   "source": [
    "**1.Accessing a single value through Indexing**"
   ]
  },
  {
   "cell_type": "code",
   "execution_count": 57,
   "id": "24b2ecc0",
   "metadata": {},
   "outputs": [
    {
     "name": "stdout",
     "output_type": "stream",
     "text": [
      "[ 10  20  30  40  50  60  70  80  90 100]\n"
     ]
    },
    {
     "data": {
      "text/plain": [
       "30"
      ]
     },
     "execution_count": 57,
     "metadata": {},
     "output_type": "execute_result"
    }
   ],
   "source": [
    "a=np.arange(10,101,10)\n",
    "print(a)\n",
    "a[2]"
   ]
  },
  {
   "cell_type": "markdown",
   "id": "e92db41e",
   "metadata": {},
   "source": [
    "**2.Accessing a multiple values based on slicing**"
   ]
  },
  {
   "cell_type": "code",
   "execution_count": 66,
   "id": "b5dde1e8",
   "metadata": {},
   "outputs": [
    {
     "data": {
      "text/plain": [
       "array([ 20,  40,  60,  80, 100])"
      ]
     },
     "execution_count": 66,
     "metadata": {},
     "output_type": "execute_result"
    }
   ],
   "source": [
    "a[1:100:2]"
   ]
  },
  {
   "cell_type": "markdown",
   "id": "346fd1e5",
   "metadata": {},
   "source": [
    "**3.Accessing a multiple values based on Indexing**"
   ]
  },
  {
   "cell_type": "code",
   "execution_count": 67,
   "id": "f23078b5",
   "metadata": {},
   "outputs": [
    {
     "data": {
      "text/plain": [
       "array([10, 20, 30, 40])"
      ]
     },
     "execution_count": 67,
     "metadata": {},
     "output_type": "execute_result"
    }
   ],
   "source": [
    "a[[0,1,2,3]]"
   ]
  },
  {
   "cell_type": "markdown",
   "id": "91f23266",
   "metadata": {},
   "source": [
    "**4.Accessing a multiple values based on condition (mask indexing or fancy indexing)**"
   ]
  },
  {
   "cell_type": "code",
   "execution_count": 68,
   "id": "86088e3a",
   "metadata": {},
   "outputs": [
    {
     "data": {
      "text/plain": [
       "array([False, False,  True, False, False,  True, False, False,  True,\n",
       "       False])"
      ]
     },
     "execution_count": 68,
     "metadata": {},
     "output_type": "execute_result"
    }
   ],
   "source": [
    "a%3==0"
   ]
  },
  {
   "cell_type": "code",
   "execution_count": 70,
   "id": "e5ba1897",
   "metadata": {},
   "outputs": [
    {
     "data": {
      "text/plain": [
       "array([ 10,  20,  30,  40,  50,  50,  70,  80,  90, 100])"
      ]
     },
     "execution_count": 70,
     "metadata": {},
     "output_type": "execute_result"
    }
   ],
   "source": [
    "a[a%2==0]"
   ]
  },
  {
   "cell_type": "markdown",
   "id": "e3a5385a",
   "metadata": {},
   "source": [
    "# Numpy is mutable\n",
    "* 1.Replace\n",
    "* 2.Add\n",
    "* 3.Remove"
   ]
  },
  {
   "cell_type": "markdown",
   "id": "90a2533b",
   "metadata": {},
   "source": [
    "**1.Replace**\n",
    "* Replacing a single value in a array"
   ]
  },
  {
   "cell_type": "code",
   "execution_count": 71,
   "id": "76f31f73",
   "metadata": {},
   "outputs": [
    {
     "name": "stdout",
     "output_type": "stream",
     "text": [
      "[ 10  20  30  40  50  50  70  80  90 100]\n"
     ]
    }
   ],
   "source": [
    "a[5]=50\n",
    "print(a)"
   ]
  },
  {
   "cell_type": "markdown",
   "id": "757f0647",
   "metadata": {},
   "source": [
    "* Replacing a multiple values in a array"
   ]
  },
  {
   "cell_type": "code",
   "execution_count": 73,
   "id": "ca40f904",
   "metadata": {},
   "outputs": [
    {
     "data": {
      "text/plain": [
       "array([ 10,  80,  30,  40,  50,  80,  70,  80,  90, 100])"
      ]
     },
     "execution_count": 73,
     "metadata": {},
     "output_type": "execute_result"
    }
   ],
   "source": [
    "a[[1,5]]=80\n",
    "a"
   ]
  },
  {
   "cell_type": "markdown",
   "id": "df051818",
   "metadata": {},
   "source": [
    "**2.Add**"
   ]
  },
  {
   "cell_type": "code",
   "execution_count": 76,
   "id": "13021146",
   "metadata": {},
   "outputs": [
    {
     "data": {
      "text/plain": [
       "array([ 10,  80,  30,  40,  50,  80,  70,  80,  90, 100, 110, 120])"
      ]
     },
     "execution_count": 76,
     "metadata": {},
     "output_type": "execute_result"
    }
   ],
   "source": [
    "b=np.append(a,[110,120])\n",
    "b"
   ]
  },
  {
   "cell_type": "markdown",
   "id": "eed41d14",
   "metadata": {},
   "source": [
    "**3.Remove**\n",
    "* Delete a single in value in a array"
   ]
  },
  {
   "cell_type": "code",
   "execution_count": 82,
   "id": "90d5c657",
   "metadata": {},
   "outputs": [
    {
     "name": "stdout",
     "output_type": "stream",
     "text": [
      "Given Numpy: [ 10  80  30  40  50  80  70  80  90 100]\n"
     ]
    },
    {
     "data": {
      "text/plain": [
       "array([ 10,  80,  30,  40,  50,  80,  70,  80, 100])"
      ]
     },
     "execution_count": 82,
     "metadata": {},
     "output_type": "execute_result"
    }
   ],
   "source": [
    "print('Given Numpy:',a)\n",
    "b=np.delete(a,8)\n",
    "b"
   ]
  },
  {
   "cell_type": "markdown",
   "id": "3cf36dac",
   "metadata": {},
   "source": [
    "* Delete a multiple in values in a array"
   ]
  },
  {
   "cell_type": "code",
   "execution_count": 83,
   "id": "f63772ed",
   "metadata": {},
   "outputs": [
    {
     "data": {
      "text/plain": [
       "array([ 10,  40,  50,  80,  70,  80,  90, 100])"
      ]
     },
     "execution_count": 83,
     "metadata": {},
     "output_type": "execute_result"
    }
   ],
   "source": [
    "b=np.delete(a,[1,2])\n",
    "b"
   ]
  },
  {
   "cell_type": "markdown",
   "id": "8c5dd724",
   "metadata": {},
   "source": [
    "**Sort**"
   ]
  },
  {
   "cell_type": "code",
   "execution_count": 85,
   "id": "70a7fb1c",
   "metadata": {},
   "outputs": [
    {
     "data": {
      "text/plain": [
       "array([1, 2, 3, 4, 6])"
      ]
     },
     "execution_count": 85,
     "metadata": {},
     "output_type": "execute_result"
    }
   ],
   "source": [
    "np.sort([4,6,3,2,1])"
   ]
  },
  {
   "cell_type": "markdown",
   "id": "1b3ae6dc",
   "metadata": {},
   "source": [
    "**Copy array**"
   ]
  },
  {
   "cell_type": "code",
   "execution_count": 89,
   "id": "97b091ee",
   "metadata": {},
   "outputs": [
    {
     "name": "stdout",
     "output_type": "stream",
     "text": [
      "given : [1 2 3]\n",
      "[100   2   3]\n"
     ]
    }
   ],
   "source": [
    "a=np.array([1,2,3])\n",
    "print('given :',a)\n",
    "b=a.copy()\n",
    "b[0]=100\n",
    "print(b)"
   ]
  },
  {
   "cell_type": "markdown",
   "id": "396e7a24",
   "metadata": {},
   "source": [
    "**around()**"
   ]
  },
  {
   "cell_type": "code",
   "execution_count": 93,
   "id": "065173c3",
   "metadata": {},
   "outputs": [
    {
     "data": {
      "text/plain": [
       "array([1., 3., 6.])"
      ]
     },
     "execution_count": 93,
     "metadata": {},
     "output_type": "execute_result"
    }
   ],
   "source": [
    "arr=np.array([1.432,3.05,5.9])\n",
    "np.around(arr)"
   ]
  },
  {
   "cell_type": "code",
   "execution_count": 95,
   "id": "2ef107cd",
   "metadata": {},
   "outputs": [
    {
     "data": {
      "text/plain": [
       "array([1.43, 3.05, 5.9 ])"
      ]
     },
     "execution_count": 95,
     "metadata": {},
     "output_type": "execute_result"
    }
   ],
   "source": [
    "np.around(arr,2)"
   ]
  },
  {
   "cell_type": "markdown",
   "id": "2572964b",
   "metadata": {},
   "source": [
    "# Operations\n",
    "**Arithmetic Operations**"
   ]
  },
  {
   "cell_type": "code",
   "execution_count": 97,
   "id": "e716d8e6",
   "metadata": {},
   "outputs": [
    {
     "data": {
      "text/plain": [
       "array([1, 2, 3, 4])"
      ]
     },
     "execution_count": 97,
     "metadata": {},
     "output_type": "execute_result"
    }
   ],
   "source": [
    "a=np.array([1,2,3,4])\n",
    "a"
   ]
  },
  {
   "cell_type": "code",
   "execution_count": 98,
   "id": "11ebf803",
   "metadata": {},
   "outputs": [
    {
     "data": {
      "text/plain": [
       "array([2, 3, 4, 5])"
      ]
     },
     "execution_count": 98,
     "metadata": {},
     "output_type": "execute_result"
    }
   ],
   "source": [
    "a+1"
   ]
  },
  {
   "cell_type": "code",
   "execution_count": 99,
   "id": "414e1d03",
   "metadata": {},
   "outputs": [
    {
     "data": {
      "text/plain": [
       "array([ 1,  4,  9, 16], dtype=int32)"
      ]
     },
     "execution_count": 99,
     "metadata": {},
     "output_type": "execute_result"
    }
   ],
   "source": [
    "a**2"
   ]
  },
  {
   "cell_type": "code",
   "execution_count": 101,
   "id": "350b236e",
   "metadata": {},
   "outputs": [
    {
     "name": "stdout",
     "output_type": "stream",
     "text": [
      "[1 2 3 4] [5 6 7 8] [1 2 3 4]\n"
     ]
    }
   ],
   "source": [
    "a=np.array([1,2,3,4])\n",
    "b=np.array([5,6,7,8,])\n",
    "c=np.array([1,2,3,4])          \n",
    "print(a,b,c)"
   ]
  },
  {
   "cell_type": "code",
   "execution_count": 104,
   "id": "75ea8d97",
   "metadata": {},
   "outputs": [
    {
     "data": {
      "text/plain": [
       "array([ 6,  8, 10, 12])"
      ]
     },
     "execution_count": 104,
     "metadata": {},
     "output_type": "execute_result"
    }
   ],
   "source": [
    "a+b"
   ]
  },
  {
   "cell_type": "code",
   "execution_count": 105,
   "id": "6fb6c67e",
   "metadata": {
    "scrolled": true
   },
   "outputs": [
    {
     "data": {
      "text/plain": [
       "array([-4, -4, -4, -4])"
      ]
     },
     "execution_count": 105,
     "metadata": {},
     "output_type": "execute_result"
    }
   ],
   "source": [
    "a-b"
   ]
  },
  {
   "cell_type": "code",
   "execution_count": 106,
   "id": "8d77cd4b",
   "metadata": {},
   "outputs": [
    {
     "data": {
      "text/plain": [
       "array([ 5, 12, 21, 32])"
      ]
     },
     "execution_count": 106,
     "metadata": {},
     "output_type": "execute_result"
    }
   ],
   "source": [
    "a*b"
   ]
  },
  {
   "cell_type": "markdown",
   "id": "31796cc6",
   "metadata": {},
   "source": [
    "**Comparision operations**"
   ]
  },
  {
   "cell_type": "code",
   "execution_count": 110,
   "id": "28fb4c85",
   "metadata": {},
   "outputs": [
    {
     "data": {
      "text/plain": [
       "array([ True,  True,  True,  True])"
      ]
     },
     "execution_count": 110,
     "metadata": {},
     "output_type": "execute_result"
    }
   ],
   "source": [
    "a==c"
   ]
  },
  {
   "cell_type": "code",
   "execution_count": 109,
   "id": "f44f3357",
   "metadata": {},
   "outputs": [
    {
     "data": {
      "text/plain": [
       "array([False, False, False, False])"
      ]
     },
     "execution_count": 109,
     "metadata": {},
     "output_type": "execute_result"
    }
   ],
   "source": [
    "a>b"
   ]
  },
  {
   "cell_type": "code",
   "execution_count": 111,
   "id": "3f5f0f77",
   "metadata": {},
   "outputs": [
    {
     "data": {
      "text/plain": [
       "False"
      ]
     },
     "execution_count": 111,
     "metadata": {},
     "output_type": "execute_result"
    }
   ],
   "source": [
    "np.array_equal(a,b)"
   ]
  },
  {
   "cell_type": "code",
   "execution_count": 112,
   "id": "3efccf26",
   "metadata": {},
   "outputs": [
    {
     "data": {
      "text/plain": [
       "True"
      ]
     },
     "execution_count": 112,
     "metadata": {},
     "output_type": "execute_result"
    }
   ],
   "source": [
    "np.array_equal(a,c)"
   ]
  },
  {
   "cell_type": "markdown",
   "id": "421d11a6",
   "metadata": {},
   "source": [
    "**Trignometric operation**"
   ]
  },
  {
   "cell_type": "code",
   "execution_count": 134,
   "id": "a18a8d13",
   "metadata": {},
   "outputs": [
    {
     "data": {
      "text/plain": [
       "array([0, 1, 2, 3, 4, 5])"
      ]
     },
     "execution_count": 134,
     "metadata": {},
     "output_type": "execute_result"
    }
   ],
   "source": [
    "a=np.arange(0,6)\n",
    "a"
   ]
  },
  {
   "cell_type": "code",
   "execution_count": 135,
   "id": "3c326864",
   "metadata": {},
   "outputs": [
    {
     "data": {
      "text/plain": [
       "array([ 0.        ,  0.84147098,  0.90929743,  0.14112001, -0.7568025 ,\n",
       "       -0.95892427])"
      ]
     },
     "execution_count": 135,
     "metadata": {},
     "output_type": "execute_result"
    }
   ],
   "source": [
    "np.sin(a)"
   ]
  },
  {
   "cell_type": "code",
   "execution_count": 136,
   "id": "b126e231",
   "metadata": {},
   "outputs": [
    {
     "data": {
      "text/plain": [
       "array([ 1.        ,  0.54030231, -0.41614684, -0.9899925 , -0.65364362,\n",
       "        0.28366219])"
      ]
     },
     "execution_count": 136,
     "metadata": {},
     "output_type": "execute_result"
    }
   ],
   "source": [
    "np.cos(a)"
   ]
  },
  {
   "cell_type": "code",
   "execution_count": 137,
   "id": "56c8a3e6",
   "metadata": {},
   "outputs": [
    {
     "data": {
      "text/plain": [
       "array([ 0.        ,  1.55740772, -2.18503986, -0.14254654,  1.15782128,\n",
       "       -3.38051501])"
      ]
     },
     "execution_count": 137,
     "metadata": {},
     "output_type": "execute_result"
    }
   ],
   "source": [
    "np.tan(a)"
   ]
  },
  {
   "cell_type": "code",
   "execution_count": 139,
   "id": "81e62db4",
   "metadata": {},
   "outputs": [
    {
     "name": "stderr",
     "output_type": "stream",
     "text": [
      "C:\\Users\\Alok\\AppData\\Local\\Temp\\ipykernel_12176\\176755284.py:1: RuntimeWarning: divide by zero encountered in log\n",
      "  np.log(a)\n"
     ]
    },
    {
     "data": {
      "text/plain": [
       "array([      -inf, 0.        , 0.69314718, 1.09861229, 1.38629436,\n",
       "       1.60943791])"
      ]
     },
     "execution_count": 139,
     "metadata": {},
     "output_type": "execute_result"
    }
   ],
   "source": [
    "np.log(a)"
   ]
  },
  {
   "cell_type": "code",
   "execution_count": 140,
   "id": "8ef4a83b",
   "metadata": {},
   "outputs": [
    {
     "data": {
      "text/plain": [
       "array([  1.        ,   2.71828183,   7.3890561 ,  20.08553692,\n",
       "        54.59815003, 148.4131591 ])"
      ]
     },
     "execution_count": 140,
     "metadata": {},
     "output_type": "execute_result"
    }
   ],
   "source": [
    "np.exp(a)"
   ]
  },
  {
   "cell_type": "markdown",
   "id": "b2c291cb",
   "metadata": {},
   "source": [
    "**Statistical operation**"
   ]
  },
  {
   "cell_type": "code",
   "execution_count": 142,
   "id": "9bac5143",
   "metadata": {},
   "outputs": [
    {
     "data": {
      "text/plain": [
       "2.5"
      ]
     },
     "execution_count": 142,
     "metadata": {},
     "output_type": "execute_result"
    }
   ],
   "source": [
    "np.mean(a)"
   ]
  },
  {
   "cell_type": "code",
   "execution_count": 143,
   "id": "ae8f3737",
   "metadata": {},
   "outputs": [
    {
     "data": {
      "text/plain": [
       "2.5"
      ]
     },
     "execution_count": 143,
     "metadata": {},
     "output_type": "execute_result"
    }
   ],
   "source": [
    "np.median(a)"
   ]
  },
  {
   "cell_type": "code",
   "execution_count": 146,
   "id": "6ddec8f5",
   "metadata": {},
   "outputs": [
    {
     "data": {
      "text/plain": [
       "1.707825127659933"
      ]
     },
     "execution_count": 146,
     "metadata": {},
     "output_type": "execute_result"
    }
   ],
   "source": [
    "np.std(a)"
   ]
  },
  {
   "cell_type": "code",
   "execution_count": 147,
   "id": "a310275b",
   "metadata": {},
   "outputs": [
    {
     "data": {
      "text/plain": [
       "array([[1., 0.],\n",
       "       [0., 1.]])"
      ]
     },
     "execution_count": 147,
     "metadata": {},
     "output_type": "execute_result"
    }
   ],
   "source": [
    "np.eye(2,2)"
   ]
  },
  {
   "cell_type": "code",
   "execution_count": 148,
   "id": "7f4758bc",
   "metadata": {},
   "outputs": [
    {
     "data": {
      "text/plain": [
       "array([[1, 0, 0],\n",
       "       [0, 2, 0],\n",
       "       [0, 0, 3]])"
      ]
     },
     "execution_count": 148,
     "metadata": {},
     "output_type": "execute_result"
    }
   ],
   "source": [
    "np.diag([1,2,3])"
   ]
  },
  {
   "cell_type": "code",
   "execution_count": null,
   "id": "73f5f66f",
   "metadata": {},
   "outputs": [],
   "source": []
  }
 ],
 "metadata": {
  "kernelspec": {
   "display_name": "Python 3 (ipykernel)",
   "language": "python",
   "name": "python3"
  },
  "language_info": {
   "codemirror_mode": {
    "name": "ipython",
    "version": 3
   },
   "file_extension": ".py",
   "mimetype": "text/x-python",
   "name": "python",
   "nbconvert_exporter": "python",
   "pygments_lexer": "ipython3",
   "version": "3.9.13"
  }
 },
 "nbformat": 4,
 "nbformat_minor": 5
}
