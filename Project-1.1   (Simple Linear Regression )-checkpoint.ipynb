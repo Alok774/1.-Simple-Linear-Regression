{
 "cells": [
  {
   "cell_type": "markdown",
   "id": "6cd0d53b",
   "metadata": {},
   "source": [
    "# Step-1:Business Problem Understanding\n"
   ]
  },
  {
   "cell_type": "markdown",
   "id": "6908f852",
   "metadata": {},
   "source": [
    "**sample project**\n",
    "* Identify relationship between total advertising spend and sales?\n",
    "* Our next ad campaign will have a total spend of $200,000.How many units do we expect to sell as a result of this ?"
   ]
  },
  {
   "cell_type": "code",
   "execution_count": 1,
   "id": "82060e08",
   "metadata": {},
   "outputs": [],
   "source": [
    "import numpy as np\n",
    "import pandas as pd\n",
    "\n",
    "import matplotlib.pyplot as plt\n",
    "%matplotlib inline \n",
    "\n",
    "import seaborn as sns"
   ]
  },
  {
   "cell_type": "markdown",
   "id": "ad765fa7",
   "metadata": {},
   "source": [
    "# Step-2: Data Understanding"
   ]
  },
  {
   "cell_type": "markdown",
   "id": "cb64e17f",
   "metadata": {},
   "source": [
    "**2.1: Data Collection**"
   ]
  },
  {
   "cell_type": "code",
   "execution_count": 2,
   "id": "96d40c5b",
   "metadata": {},
   "outputs": [
    {
     "data": {
      "text/html": [
       "<div>\n",
       "<style scoped>\n",
       "    .dataframe tbody tr th:only-of-type {\n",
       "        vertical-align: middle;\n",
       "    }\n",
       "\n",
       "    .dataframe tbody tr th {\n",
       "        vertical-align: top;\n",
       "    }\n",
       "\n",
       "    .dataframe thead th {\n",
       "        text-align: right;\n",
       "    }\n",
       "</style>\n",
       "<table border=\"1\" class=\"dataframe\">\n",
       "  <thead>\n",
       "    <tr style=\"text-align: right;\">\n",
       "      <th></th>\n",
       "      <th>TV</th>\n",
       "      <th>radio</th>\n",
       "      <th>newspaper</th>\n",
       "      <th>sales</th>\n",
       "    </tr>\n",
       "  </thead>\n",
       "  <tbody>\n",
       "    <tr>\n",
       "      <th>0</th>\n",
       "      <td>230100</td>\n",
       "      <td>37800</td>\n",
       "      <td>69200</td>\n",
       "      <td>22100</td>\n",
       "    </tr>\n",
       "    <tr>\n",
       "      <th>1</th>\n",
       "      <td>44500</td>\n",
       "      <td>39300</td>\n",
       "      <td>45100</td>\n",
       "      <td>10400</td>\n",
       "    </tr>\n",
       "    <tr>\n",
       "      <th>2</th>\n",
       "      <td>17200</td>\n",
       "      <td>45900</td>\n",
       "      <td>69300</td>\n",
       "      <td>9300</td>\n",
       "    </tr>\n",
       "    <tr>\n",
       "      <th>3</th>\n",
       "      <td>151500</td>\n",
       "      <td>41300</td>\n",
       "      <td>58500</td>\n",
       "      <td>18500</td>\n",
       "    </tr>\n",
       "    <tr>\n",
       "      <th>4</th>\n",
       "      <td>180800</td>\n",
       "      <td>10800</td>\n",
       "      <td>58400</td>\n",
       "      <td>12900</td>\n",
       "    </tr>\n",
       "  </tbody>\n",
       "</table>\n",
       "</div>"
      ],
      "text/plain": [
       "       TV  radio  newspaper  sales\n",
       "0  230100  37800      69200  22100\n",
       "1   44500  39300      45100  10400\n",
       "2   17200  45900      69300   9300\n",
       "3  151500  41300      58500  18500\n",
       "4  180800  10800      58400  12900"
      ]
     },
     "execution_count": 2,
     "metadata": {},
     "output_type": "execute_result"
    }
   ],
   "source": [
    "df=pd.read_csv('advertising.csv')\n",
    "df.head()"
   ]
  },
  {
   "cell_type": "code",
   "execution_count": 3,
   "id": "69fbe15f",
   "metadata": {},
   "outputs": [
    {
     "name": "stdout",
     "output_type": "stream",
     "text": [
      "<class 'pandas.core.frame.DataFrame'>\n",
      "RangeIndex: 200 entries, 0 to 199\n",
      "Data columns (total 4 columns):\n",
      " #   Column     Non-Null Count  Dtype\n",
      "---  ------     --------------  -----\n",
      " 0   TV         200 non-null    int64\n",
      " 1   radio      200 non-null    int64\n",
      " 2   newspaper  200 non-null    int64\n",
      " 3   sales      200 non-null    int64\n",
      "dtypes: int64(4)\n",
      "memory usage: 6.4 KB\n"
     ]
    }
   ],
   "source": [
    "df.info()            # total information"
   ]
  },
  {
   "cell_type": "code",
   "execution_count": 4,
   "id": "c0610f2c",
   "metadata": {},
   "outputs": [
    {
     "data": {
      "image/png": "[encoded data removed]",
      "text/plain": [
       "<Figure size 640x480 with 1 Axes>"
      ]
     },
     "metadata": {},
     "output_type": "display_data"
    }
   ],
   "source": [
    "sns.boxplot(x=df['newspaper'])\n",
    "plt.show()"
   ]
  },
  {
   "cell_type": "code",
   "execution_count": 5,
   "id": "b3acd29e",
   "metadata": {
    "scrolled": true
   },
   "outputs": [
    {
     "name": "stdout",
     "output_type": "stream",
     "text": [
      "12750.0\n",
      "45100.0\n",
      "32350.0\n",
      "-35775.0\n",
      "93625.0\n"
     ]
    }
   ],
   "source": [
    "q1=df['newspaper'].quantile(0.25)\n",
    "print(q1)\n",
    "q3=df['newspaper'].quantile(0.75)\n",
    "print(q3)\n",
    "iqr=q3-q1\n",
    "print(iqr)\n",
    "lower_limit=q1-(iqr*1.5)\n",
    "print(lower_limit)\n",
    "upper_limit=q3+(iqr*1.5)\n",
    "print(upper_limit)\n"
   ]
  },
  {
   "cell_type": "code",
   "execution_count": 6,
   "id": "0c809bb1",
   "metadata": {},
   "outputs": [
    {
     "data": {
      "text/html": [
       "<div>\n",
       "<style scoped>\n",
       "    .dataframe tbody tr th:only-of-type {\n",
       "        vertical-align: middle;\n",
       "    }\n",
       "\n",
       "    .dataframe tbody tr th {\n",
       "        vertical-align: top;\n",
       "    }\n",
       "\n",
       "    .dataframe thead th {\n",
       "        text-align: right;\n",
       "    }\n",
       "</style>\n",
       "<table border=\"1\" class=\"dataframe\">\n",
       "  <thead>\n",
       "    <tr style=\"text-align: right;\">\n",
       "      <th></th>\n",
       "      <th>TV</th>\n",
       "      <th>radio</th>\n",
       "      <th>newspaper</th>\n",
       "      <th>sales</th>\n",
       "    </tr>\n",
       "  </thead>\n",
       "  <tbody>\n",
       "    <tr>\n",
       "      <th>16</th>\n",
       "      <td>67800</td>\n",
       "      <td>36600</td>\n",
       "      <td>114000</td>\n",
       "      <td>12500</td>\n",
       "    </tr>\n",
       "    <tr>\n",
       "      <th>101</th>\n",
       "      <td>296400</td>\n",
       "      <td>36300</td>\n",
       "      <td>100900</td>\n",
       "      <td>23800</td>\n",
       "    </tr>\n",
       "  </tbody>\n",
       "</table>\n",
       "</div>"
      ],
      "text/plain": [
       "         TV  radio  newspaper  sales\n",
       "16    67800  36600     114000  12500\n",
       "101  296400  36300     100900  23800"
      ]
     },
     "execution_count": 6,
     "metadata": {},
     "output_type": "execute_result"
    }
   ],
   "source": [
    "df[(df['newspaper']<lower_limit)|(df['newspaper']>upper_limit)]\n"
   ]
  },
  {
   "cell_type": "code",
   "execution_count": 7,
   "id": "62db713e",
   "metadata": {},
   "outputs": [
    {
     "data": {
      "text/html": [
       "<div>\n",
       "<style scoped>\n",
       "    .dataframe tbody tr th:only-of-type {\n",
       "        vertical-align: middle;\n",
       "    }\n",
       "\n",
       "    .dataframe tbody tr th {\n",
       "        vertical-align: top;\n",
       "    }\n",
       "\n",
       "    .dataframe thead th {\n",
       "        text-align: right;\n",
       "    }\n",
       "</style>\n",
       "<table border=\"1\" class=\"dataframe\">\n",
       "  <thead>\n",
       "    <tr style=\"text-align: right;\">\n",
       "      <th></th>\n",
       "      <th>TV</th>\n",
       "      <th>radio</th>\n",
       "      <th>newspaper</th>\n",
       "      <th>sales</th>\n",
       "    </tr>\n",
       "  </thead>\n",
       "  <tbody>\n",
       "    <tr>\n",
       "      <th>0</th>\n",
       "      <td>230100</td>\n",
       "      <td>37800</td>\n",
       "      <td>69200</td>\n",
       "      <td>22100</td>\n",
       "    </tr>\n",
       "    <tr>\n",
       "      <th>1</th>\n",
       "      <td>44500</td>\n",
       "      <td>39300</td>\n",
       "      <td>45100</td>\n",
       "      <td>10400</td>\n",
       "    </tr>\n",
       "    <tr>\n",
       "      <th>2</th>\n",
       "      <td>17200</td>\n",
       "      <td>45900</td>\n",
       "      <td>69300</td>\n",
       "      <td>9300</td>\n",
       "    </tr>\n",
       "    <tr>\n",
       "      <th>3</th>\n",
       "      <td>151500</td>\n",
       "      <td>41300</td>\n",
       "      <td>58500</td>\n",
       "      <td>18500</td>\n",
       "    </tr>\n",
       "    <tr>\n",
       "      <th>4</th>\n",
       "      <td>180800</td>\n",
       "      <td>10800</td>\n",
       "      <td>58400</td>\n",
       "      <td>12900</td>\n",
       "    </tr>\n",
       "    <tr>\n",
       "      <th>...</th>\n",
       "      <td>...</td>\n",
       "      <td>...</td>\n",
       "      <td>...</td>\n",
       "      <td>...</td>\n",
       "    </tr>\n",
       "    <tr>\n",
       "      <th>195</th>\n",
       "      <td>38200</td>\n",
       "      <td>3700</td>\n",
       "      <td>13800</td>\n",
       "      <td>7600</td>\n",
       "    </tr>\n",
       "    <tr>\n",
       "      <th>196</th>\n",
       "      <td>94200</td>\n",
       "      <td>4900</td>\n",
       "      <td>8100</td>\n",
       "      <td>9700</td>\n",
       "    </tr>\n",
       "    <tr>\n",
       "      <th>197</th>\n",
       "      <td>177000</td>\n",
       "      <td>9300</td>\n",
       "      <td>6400</td>\n",
       "      <td>12800</td>\n",
       "    </tr>\n",
       "    <tr>\n",
       "      <th>198</th>\n",
       "      <td>283600</td>\n",
       "      <td>42000</td>\n",
       "      <td>66200</td>\n",
       "      <td>25500</td>\n",
       "    </tr>\n",
       "    <tr>\n",
       "      <th>199</th>\n",
       "      <td>232100</td>\n",
       "      <td>8600</td>\n",
       "      <td>8700</td>\n",
       "      <td>13400</td>\n",
       "    </tr>\n",
       "  </tbody>\n",
       "</table>\n",
       "<p>200 rows × 4 columns</p>\n",
       "</div>"
      ],
      "text/plain": [
       "         TV  radio  newspaper  sales\n",
       "0    230100  37800      69200  22100\n",
       "1     44500  39300      45100  10400\n",
       "2     17200  45900      69300   9300\n",
       "3    151500  41300      58500  18500\n",
       "4    180800  10800      58400  12900\n",
       "..      ...    ...        ...    ...\n",
       "195   38200   3700      13800   7600\n",
       "196   94200   4900       8100   9700\n",
       "197  177000   9300       6400  12800\n",
       "198  283600  42000      66200  25500\n",
       "199  232100   8600       8700  13400\n",
       "\n",
       "[200 rows x 4 columns]"
      ]
     },
     "execution_count": 7,
     "metadata": {},
     "output_type": "execute_result"
    }
   ],
   "source": [
    "df['newspaper'].replace(114000,93625,inplace=True)\n",
    "df"
   ]
  },
  {
   "cell_type": "code",
   "execution_count": 8,
   "id": "b6a13c22",
   "metadata": {},
   "outputs": [
    {
     "data": {
      "text/html": [
       "<div>\n",
       "<style scoped>\n",
       "    .dataframe tbody tr th:only-of-type {\n",
       "        vertical-align: middle;\n",
       "    }\n",
       "\n",
       "    .dataframe tbody tr th {\n",
       "        vertical-align: top;\n",
       "    }\n",
       "\n",
       "    .dataframe thead th {\n",
       "        text-align: right;\n",
       "    }\n",
       "</style>\n",
       "<table border=\"1\" class=\"dataframe\">\n",
       "  <thead>\n",
       "    <tr style=\"text-align: right;\">\n",
       "      <th></th>\n",
       "      <th>TV</th>\n",
       "      <th>radio</th>\n",
       "      <th>newspaper</th>\n",
       "      <th>sales</th>\n",
       "    </tr>\n",
       "  </thead>\n",
       "  <tbody>\n",
       "    <tr>\n",
       "      <th>0</th>\n",
       "      <td>230100</td>\n",
       "      <td>37800</td>\n",
       "      <td>69200</td>\n",
       "      <td>22100</td>\n",
       "    </tr>\n",
       "    <tr>\n",
       "      <th>1</th>\n",
       "      <td>44500</td>\n",
       "      <td>39300</td>\n",
       "      <td>45100</td>\n",
       "      <td>10400</td>\n",
       "    </tr>\n",
       "    <tr>\n",
       "      <th>2</th>\n",
       "      <td>17200</td>\n",
       "      <td>45900</td>\n",
       "      <td>69300</td>\n",
       "      <td>9300</td>\n",
       "    </tr>\n",
       "    <tr>\n",
       "      <th>3</th>\n",
       "      <td>151500</td>\n",
       "      <td>41300</td>\n",
       "      <td>58500</td>\n",
       "      <td>18500</td>\n",
       "    </tr>\n",
       "    <tr>\n",
       "      <th>4</th>\n",
       "      <td>180800</td>\n",
       "      <td>10800</td>\n",
       "      <td>58400</td>\n",
       "      <td>12900</td>\n",
       "    </tr>\n",
       "    <tr>\n",
       "      <th>...</th>\n",
       "      <td>...</td>\n",
       "      <td>...</td>\n",
       "      <td>...</td>\n",
       "      <td>...</td>\n",
       "    </tr>\n",
       "    <tr>\n",
       "      <th>195</th>\n",
       "      <td>38200</td>\n",
       "      <td>3700</td>\n",
       "      <td>13800</td>\n",
       "      <td>7600</td>\n",
       "    </tr>\n",
       "    <tr>\n",
       "      <th>196</th>\n",
       "      <td>94200</td>\n",
       "      <td>4900</td>\n",
       "      <td>8100</td>\n",
       "      <td>9700</td>\n",
       "    </tr>\n",
       "    <tr>\n",
       "      <th>197</th>\n",
       "      <td>177000</td>\n",
       "      <td>9300</td>\n",
       "      <td>6400</td>\n",
       "      <td>12800</td>\n",
       "    </tr>\n",
       "    <tr>\n",
       "      <th>198</th>\n",
       "      <td>283600</td>\n",
       "      <td>42000</td>\n",
       "      <td>66200</td>\n",
       "      <td>25500</td>\n",
       "    </tr>\n",
       "    <tr>\n",
       "      <th>199</th>\n",
       "      <td>232100</td>\n",
       "      <td>8600</td>\n",
       "      <td>8700</td>\n",
       "      <td>13400</td>\n",
       "    </tr>\n",
       "  </tbody>\n",
       "</table>\n",
       "<p>200 rows × 4 columns</p>\n",
       "</div>"
      ],
      "text/plain": [
       "         TV  radio  newspaper  sales\n",
       "0    230100  37800      69200  22100\n",
       "1     44500  39300      45100  10400\n",
       "2     17200  45900      69300   9300\n",
       "3    151500  41300      58500  18500\n",
       "4    180800  10800      58400  12900\n",
       "..      ...    ...        ...    ...\n",
       "195   38200   3700      13800   7600\n",
       "196   94200   4900       8100   9700\n",
       "197  177000   9300       6400  12800\n",
       "198  283600  42000      66200  25500\n",
       "199  232100   8600       8700  13400\n",
       "\n",
       "[200 rows x 4 columns]"
      ]
     },
     "execution_count": 8,
     "metadata": {},
     "output_type": "execute_result"
    }
   ],
   "source": [
    "df['newspaper'].replace(100900,93625,inplace=True)\n",
    "df"
   ]
  },
  {
   "cell_type": "code",
   "execution_count": 9,
   "id": "973160eb",
   "metadata": {},
   "outputs": [
    {
     "data": {
      "image/png": "[encoded data removed]",
      "text/plain": [
       "<Figure size 640x480 with 1 Axes>"
      ]
     },
     "metadata": {},
     "output_type": "display_data"
    }
   ],
   "source": [
    "sns.boxplot(x=df['newspaper'])\n",
    "plt.show()"
   ]
  },
  {
   "cell_type": "markdown",
   "id": "d1713645",
   "metadata": {},
   "source": [
    "**If someone was to spend a total of $200,000, what would the expected sales be ?**\n",
    "\n",
    "* We have simplified this quite  a bit by combining all the feature into 'total spend'  "
   ]
  },
  {
   "cell_type": "code",
   "execution_count": null,
   "id": "fcff433d",
   "metadata": {},
   "outputs": [],
   "source": []
  },
  {
   "cell_type": "code",
   "execution_count": 10,
   "id": "803fe025",
   "metadata": {},
   "outputs": [
    {
     "data": {
      "text/html": [
       "<div>\n",
       "<style scoped>\n",
       "    .dataframe tbody tr th:only-of-type {\n",
       "        vertical-align: middle;\n",
       "    }\n",
       "\n",
       "    .dataframe tbody tr th {\n",
       "        vertical-align: top;\n",
       "    }\n",
       "\n",
       "    .dataframe thead th {\n",
       "        text-align: right;\n",
       "    }\n",
       "</style>\n",
       "<table border=\"1\" class=\"dataframe\">\n",
       "  <thead>\n",
       "    <tr style=\"text-align: right;\">\n",
       "      <th></th>\n",
       "      <th>TV</th>\n",
       "      <th>radio</th>\n",
       "      <th>newspaper</th>\n",
       "      <th>sales</th>\n",
       "      <th>total_spend</th>\n",
       "    </tr>\n",
       "  </thead>\n",
       "  <tbody>\n",
       "    <tr>\n",
       "      <th>0</th>\n",
       "      <td>230100</td>\n",
       "      <td>37800</td>\n",
       "      <td>69200</td>\n",
       "      <td>22100</td>\n",
       "      <td>337100</td>\n",
       "    </tr>\n",
       "    <tr>\n",
       "      <th>1</th>\n",
       "      <td>44500</td>\n",
       "      <td>39300</td>\n",
       "      <td>45100</td>\n",
       "      <td>10400</td>\n",
       "      <td>128900</td>\n",
       "    </tr>\n",
       "    <tr>\n",
       "      <th>2</th>\n",
       "      <td>17200</td>\n",
       "      <td>45900</td>\n",
       "      <td>69300</td>\n",
       "      <td>9300</td>\n",
       "      <td>132400</td>\n",
       "    </tr>\n",
       "    <tr>\n",
       "      <th>3</th>\n",
       "      <td>151500</td>\n",
       "      <td>41300</td>\n",
       "      <td>58500</td>\n",
       "      <td>18500</td>\n",
       "      <td>251300</td>\n",
       "    </tr>\n",
       "    <tr>\n",
       "      <th>4</th>\n",
       "      <td>180800</td>\n",
       "      <td>10800</td>\n",
       "      <td>58400</td>\n",
       "      <td>12900</td>\n",
       "      <td>250000</td>\n",
       "    </tr>\n",
       "  </tbody>\n",
       "</table>\n",
       "</div>"
      ],
      "text/plain": [
       "       TV  radio  newspaper  sales  total_spend\n",
       "0  230100  37800      69200  22100       337100\n",
       "1   44500  39300      45100  10400       128900\n",
       "2   17200  45900      69300   9300       132400\n",
       "3  151500  41300      58500  18500       251300\n",
       "4  180800  10800      58400  12900       250000"
      ]
     },
     "execution_count": 10,
     "metadata": {},
     "output_type": "execute_result"
    }
   ],
   "source": [
    "df['total_spend']=df['TV']+df['radio']+df['newspaper']\n",
    "df.head()"
   ]
  },
  {
   "cell_type": "code",
   "execution_count": 11,
   "id": "214a24c1",
   "metadata": {},
   "outputs": [
    {
     "data": {
      "text/html": [
       "<div>\n",
       "<style scoped>\n",
       "    .dataframe tbody tr th:only-of-type {\n",
       "        vertical-align: middle;\n",
       "    }\n",
       "\n",
       "    .dataframe tbody tr th {\n",
       "        vertical-align: top;\n",
       "    }\n",
       "\n",
       "    .dataframe thead th {\n",
       "        text-align: right;\n",
       "    }\n",
       "</style>\n",
       "<table border=\"1\" class=\"dataframe\">\n",
       "  <thead>\n",
       "    <tr style=\"text-align: right;\">\n",
       "      <th></th>\n",
       "      <th>sales</th>\n",
       "      <th>total_spend</th>\n",
       "    </tr>\n",
       "  </thead>\n",
       "  <tbody>\n",
       "    <tr>\n",
       "      <th>0</th>\n",
       "      <td>22100</td>\n",
       "      <td>337100</td>\n",
       "    </tr>\n",
       "    <tr>\n",
       "      <th>1</th>\n",
       "      <td>10400</td>\n",
       "      <td>128900</td>\n",
       "    </tr>\n",
       "    <tr>\n",
       "      <th>2</th>\n",
       "      <td>9300</td>\n",
       "      <td>132400</td>\n",
       "    </tr>\n",
       "    <tr>\n",
       "      <th>3</th>\n",
       "      <td>18500</td>\n",
       "      <td>251300</td>\n",
       "    </tr>\n",
       "    <tr>\n",
       "      <th>4</th>\n",
       "      <td>12900</td>\n",
       "      <td>250000</td>\n",
       "    </tr>\n",
       "  </tbody>\n",
       "</table>\n",
       "</div>"
      ],
      "text/plain": [
       "   sales  total_spend\n",
       "0  22100       337100\n",
       "1  10400       128900\n",
       "2   9300       132400\n",
       "3  18500       251300\n",
       "4  12900       250000"
      ]
     },
     "execution_count": 11,
     "metadata": {},
     "output_type": "execute_result"
    }
   ],
   "source": [
    "df.drop(columns=['TV','radio','newspaper'],inplace=True)  #if true is there save original\n",
    "df.head()"
   ]
  },
  {
   "cell_type": "markdown",
   "id": "59cbe6b9",
   "metadata": {},
   "source": [
    "# Step-3: Data Preprocessing\n",
    "Data processing occurs when data is collected and translated into usable information. "
   ]
  },
  {
   "cell_type": "markdown",
   "id": "6afd729c",
   "metadata": {},
   "source": [
    "**3.1:Explotory Data Analysis**\n",
    "\n",
    "* On the basis of this data,how should you spend advertising money in the feature ?These general Questions might lead you to more specific questions:\n",
    "\n",
    "* 1. Is there a relationship between ads and sales ?\n",
    "* 2. How strong is that relationship ?\n",
    "* 3. Given ad spending,can sales be predicted ?"
   ]
  },
  {
   "cell_type": "code",
   "execution_count": 12,
   "id": "5cc9c489",
   "metadata": {},
   "outputs": [
    {
     "data": {
      "text/html": [
       "<div>\n",
       "<style scoped>\n",
       "    .dataframe tbody tr th:only-of-type {\n",
       "        vertical-align: middle;\n",
       "    }\n",
       "\n",
       "    .dataframe tbody tr th {\n",
       "        vertical-align: top;\n",
       "    }\n",
       "\n",
       "    .dataframe thead th {\n",
       "        text-align: right;\n",
       "    }\n",
       "</style>\n",
       "<table border=\"1\" class=\"dataframe\">\n",
       "  <thead>\n",
       "    <tr style=\"text-align: right;\">\n",
       "      <th></th>\n",
       "      <th>sales</th>\n",
       "      <th>total_spend</th>\n",
       "    </tr>\n",
       "  </thead>\n",
       "  <tbody>\n",
       "    <tr>\n",
       "      <th>count</th>\n",
       "      <td>200.000000</td>\n",
       "      <td>200.000000</td>\n",
       "    </tr>\n",
       "    <tr>\n",
       "      <th>mean</th>\n",
       "      <td>14022.500000</td>\n",
       "      <td>200722.250000</td>\n",
       "    </tr>\n",
       "    <tr>\n",
       "      <th>std</th>\n",
       "      <td>5217.456566</td>\n",
       "      <td>92886.856859</td>\n",
       "    </tr>\n",
       "    <tr>\n",
       "      <th>min</th>\n",
       "      <td>1600.000000</td>\n",
       "      <td>11700.000000</td>\n",
       "    </tr>\n",
       "    <tr>\n",
       "      <th>25%</th>\n",
       "      <td>10375.000000</td>\n",
       "      <td>123550.000000</td>\n",
       "    </tr>\n",
       "    <tr>\n",
       "      <th>50%</th>\n",
       "      <td>12900.000000</td>\n",
       "      <td>204900.000000</td>\n",
       "    </tr>\n",
       "    <tr>\n",
       "      <th>75%</th>\n",
       "      <td>17400.000000</td>\n",
       "      <td>281125.000000</td>\n",
       "    </tr>\n",
       "    <tr>\n",
       "      <th>max</th>\n",
       "      <td>27000.000000</td>\n",
       "      <td>426325.000000</td>\n",
       "    </tr>\n",
       "  </tbody>\n",
       "</table>\n",
       "</div>"
      ],
      "text/plain": [
       "              sales    total_spend\n",
       "count    200.000000     200.000000\n",
       "mean   14022.500000  200722.250000\n",
       "std     5217.456566   92886.856859\n",
       "min     1600.000000   11700.000000\n",
       "25%    10375.000000  123550.000000\n",
       "50%    12900.000000  204900.000000\n",
       "75%    17400.000000  281125.000000\n",
       "max    27000.000000  426325.000000"
      ]
     },
     "execution_count": 12,
     "metadata": {},
     "output_type": "execute_result"
    }
   ],
   "source": [
    "df.describe()\n",
    "#The describe() method returns description of the data in the DataFrame.\n",
    "#If the DataFrame contains numerical data, the description contains these information for each column:\n",
    "  #count - The number of not-empty values.\n",
    "  # mean - The average (mean) value."
   ]
  },
  {
   "cell_type": "code",
   "execution_count": 13,
   "id": "809e38ce",
   "metadata": {},
   "outputs": [
    {
     "data": {
      "image/png": "[encoded data removed]",
      "text/plain": [
       "<Figure size 500x500 with 6 Axes>"
      ]
     },
     "metadata": {},
     "output_type": "display_data"
    }
   ],
   "source": [
    "sns.pairplot(df) \n",
    "plt.show()\n",
    "# pairplot(histo+scatter):\n",
    "# Pairplot visualizes given data to find the relationship between them where the variables can be continuous or categorical.\n",
    "#Plot pairwise relationships in a data-set. \n",
    "#Pairplot is a module of seaborn library .\n",
    "#It provides a high-level interface for drawing attractive and informative statistical graphics."
   ]
  },
  {
   "cell_type": "code",
   "execution_count": 14,
   "id": "5cb11942",
   "metadata": {},
   "outputs": [
    {
     "data": {
      "text/html": [
       "<div>\n",
       "<style scoped>\n",
       "    .dataframe tbody tr th:only-of-type {\n",
       "        vertical-align: middle;\n",
       "    }\n",
       "\n",
       "    .dataframe tbody tr th {\n",
       "        vertical-align: top;\n",
       "    }\n",
       "\n",
       "    .dataframe thead th {\n",
       "        text-align: right;\n",
       "    }\n",
       "</style>\n",
       "<table border=\"1\" class=\"dataframe\">\n",
       "  <thead>\n",
       "    <tr style=\"text-align: right;\">\n",
       "      <th></th>\n",
       "      <th>sales</th>\n",
       "      <th>total_spend</th>\n",
       "    </tr>\n",
       "  </thead>\n",
       "  <tbody>\n",
       "    <tr>\n",
       "      <th>sales</th>\n",
       "      <td>1.000000</td>\n",
       "      <td>0.868215</td>\n",
       "    </tr>\n",
       "    <tr>\n",
       "      <th>total_spend</th>\n",
       "      <td>0.868215</td>\n",
       "      <td>1.000000</td>\n",
       "    </tr>\n",
       "  </tbody>\n",
       "</table>\n",
       "</div>"
      ],
      "text/plain": [
       "                sales  total_spend\n",
       "sales        1.000000     0.868215\n",
       "total_spend  0.868215     1.000000"
      ]
     },
     "execution_count": 14,
     "metadata": {},
     "output_type": "execute_result"
    }
   ],
   "source": [
    "df.corr()   #correlation:-The corr() method finds the correlation of each column in a DataFrame."
   ]
  },
  {
   "cell_type": "markdown",
   "id": "cf1a1590",
   "metadata": {},
   "source": [
    "**Step-3.2: Data cleaning**:-\n",
    "Data cleaning is the process of fixing or removing incorrect, corrupted, incorrectly formatted, duplicate, or incomplete data within a dataset."
   ]
  },
  {
   "cell_type": "code",
   "execution_count": 15,
   "id": "a4ab403d",
   "metadata": {},
   "outputs": [
    {
     "data": {
      "text/plain": [
       "sales          0\n",
       "total_spend    0\n",
       "dtype: int64"
      ]
     },
     "execution_count": 15,
     "metadata": {},
     "output_type": "execute_result"
    }
   ],
   "source": [
    "df.isnull().sum()  #The function dataframe. isnull(). sum() returns the number of missing values in the dataset."
   ]
  },
  {
   "cell_type": "markdown",
   "id": "d7b2623c",
   "metadata": {},
   "source": [
    "**Step-3.3: Data Wrangling:**\n",
    "\n",
    "* Data wrangling is the process of removing errors and combining complex data sets to make them more accessible and easier to analyze.\n",
    "* No encoding is reqired.\n",
    "* Encoding is a technique of converting categorical variables into numerical values so that it could be easily fitted to a machine learning model."
   ]
  },
  {
   "cell_type": "markdown",
   "id": "88255712",
   "metadata": {},
   "source": [
    " **Step-3.4: Tain-test Split**\n",
    "    \n",
    "    The train-test split is used to estimate the performance of machine learning algorithms that are applicable for prediction-based Algorithms/Applications. This method is a fast and easy procedure to perform such that we can compare our own machine learning model results to machine results."
   ]
  },
  {
   "cell_type": "code",
   "execution_count": 16,
   "id": "4274f781",
   "metadata": {},
   "outputs": [],
   "source": [
    "#create X and y\n",
    "# taking only one variable for now\n",
    "X=df.drop(columns='sales')\n",
    "y=df['sales']"
   ]
  },
  {
   "cell_type": "code",
   "execution_count": 17,
   "id": "99c13aab",
   "metadata": {},
   "outputs": [],
   "source": [
    "from sklearn.model_selection import train_test_split\n",
    "X_train,X_test,y_train,y_test=train_test_split(X,y,test_size=0.2,random_state=65)\n",
    "\n",
    "#Scikit-learn is probably the most useful library for machine learning in Python.\n",
    "#The sklearn library contains a lot of efficient tools for machine learning and statistical modeling including classification, regression, clustering and dimensionality reduction."
   ]
  },
  {
   "cell_type": "markdown",
   "id": "e42daae5",
   "metadata": {},
   "source": [
    "# step-4: Modeling"
   ]
  },
  {
   "cell_type": "markdown",
   "id": "4109ad7b",
   "metadata": {},
   "source": [
    "Machine learn data as per algorithm is called modeling. \n",
    "Algorithm:Way of training\n",
    "Modelling with default parameters"
   ]
  },
  {
   "cell_type": "code",
   "execution_count": 18,
   "id": "8bfed016",
   "metadata": {},
   "outputs": [],
   "source": [
    "#import\n",
    "from sklearn.linear_model import LinearRegression  # machine learning algorithm"
   ]
  },
  {
   "cell_type": "code",
   "execution_count": 19,
   "id": "0c1fea50",
   "metadata": {},
   "outputs": [],
   "source": [
    "# save the model\n",
    "model=LinearRegression() # model is a variable"
   ]
  },
  {
   "cell_type": "code",
   "execution_count": 20,
   "id": "929a47ee",
   "metadata": {},
   "outputs": [
    {
     "data": {
      "text/plain": [
       "LinearRegression()"
      ]
     },
     "execution_count": 20,
     "metadata": {},
     "output_type": "execute_result"
    }
   ],
   "source": [
    "#fit\n",
    "model.fit(X_train,y_train) #fit:(calculate):-fit function in ML, that is used for training of model using data examp (doubt)"
   ]
  },
  {
   "cell_type": "code",
   "execution_count": 21,
   "id": "ba6c006b",
   "metadata": {},
   "outputs": [
    {
     "data": {
      "text/plain": [
       "4348.486165522485"
      ]
     },
     "execution_count": 21,
     "metadata": {},
     "output_type": "execute_result"
    }
   ],
   "source": [
    "#print intercept(B0) #ŷ=B0+B1x\n",
    "model.intercept_  #The intercept (sometimes called the “constant”) in a regression model represents the mean value of the response variable when all of the predictor variables in the model are equal to zero"
   ]
  },
  {
   "cell_type": "code",
   "execution_count": 22,
   "id": "82120f51",
   "metadata": {},
   "outputs": [
    {
     "data": {
      "text/plain": [
       "array([0.04842485])"
      ]
     },
     "execution_count": 22,
     "metadata": {},
     "output_type": "execute_result"
    }
   ],
   "source": [
    "#print coef(B1):cofficient always same & Also called slop(y=mx+c)\n",
    "model.coef_   "
   ]
  },
  {
   "cell_type": "markdown",
   "id": "691ea440",
   "metadata": {},
   "source": [
    "**Predictoin**\n",
    "y valu machin will predict"
   ]
  },
  {
   "cell_type": "code",
   "execution_count": 23,
   "id": "7dd8b610",
   "metadata": {},
   "outputs": [],
   "source": [
    "train_predictions=model.predict(X_train)"
   ]
  },
  {
   "cell_type": "code",
   "execution_count": 24,
   "id": "eb9ea27d",
   "metadata": {},
   "outputs": [],
   "source": [
    "test_predictions=model.predict(X_test)"
   ]
  },
  {
   "cell_type": "markdown",
   "id": "68482259",
   "metadata": {},
   "source": [
    "# step-5:Evaluation\n",
    "\n",
    "Check how much machine has learn."
   ]
  },
  {
   "cell_type": "code",
   "execution_count": 25,
   "id": "df728c1b",
   "metadata": {},
   "outputs": [
    {
     "name": "stdout",
     "output_type": "stream",
     "text": [
      "MAE for test data:  1655.9867178640707\n",
      "MAE for train data:  2015.3192092377533\n"
     ]
    }
   ],
   "source": [
    "# not import\n",
    "from sklearn.metrics import mean_absolute_error\n",
    "print(\"MAE for test data: \",mean_absolute_error(y_test,test_predictions))\n",
    "print(\"MAE for train data: \",mean_absolute_error(y_train,train_predictions))"
   ]
  },
  {
   "cell_type": "code",
   "execution_count": 26,
   "id": "ff15e0ec",
   "metadata": {},
   "outputs": [
    {
     "name": "stdout",
     "output_type": "stream",
     "text": [
      "MSE for test data: 4929871.205052766\n",
      "MSE for train data: 7107165.562345986\n"
     ]
    }
   ],
   "source": [
    "from sklearn.metrics import mean_squared_error\n",
    "print(\"MSE for test data:\",mean_squared_error(y_test,test_predictions))\n",
    "print(\"MSE for train data:\",mean_squared_error(y_train,train_predictions))"
   ]
  },
  {
   "cell_type": "code",
   "execution_count": 27,
   "id": "b01a936f",
   "metadata": {},
   "outputs": [
    {
     "name": "stdout",
     "output_type": "stream",
     "text": [
      "RMSE for test data: 2220.331327764567\n",
      "RMSE for train data: 2665.9267736278853\n"
     ]
    }
   ],
   "source": [
    "print(\"RMSE for test data:\",np.sqrt(mean_squared_error(y_test,test_predictions)))\n",
    "print(\"RMSE for train data:\",np.sqrt(mean_squared_error(y_train,train_predictions)))"
   ]
  },
  {
   "cell_type": "code",
   "execution_count": 28,
   "id": "b6488ce9",
   "metadata": {},
   "outputs": [
    {
     "name": "stdout",
     "output_type": "stream",
     "text": [
      "R2 for test data: 0.7964996948425869\n",
      "R2 for train data: 0.7427384428079196\n"
     ]
    }
   ],
   "source": [
    "from sklearn.metrics import r2_score\n",
    "print(\"R2 for test data:\",r2_score(y_test,test_predictions))\n",
    "print(\"R2 for train data:\",r2_score(y_train,train_predictions))"
   ]
  },
  {
   "cell_type": "code",
   "execution_count": 29,
   "id": "a976df20",
   "metadata": {},
   "outputs": [
    {
     "data": {
      "text/plain": [
       "0.7964996948425869"
      ]
     },
     "execution_count": 29,
     "metadata": {},
     "output_type": "execute_result"
    }
   ],
   "source": [
    "# Test R-Square\n",
    "model.score(X_test,y_test)\n"
   ]
  },
  {
   "cell_type": "code",
   "execution_count": 30,
   "id": "2cfdf07f",
   "metadata": {},
   "outputs": [
    {
     "data": {
      "text/plain": [
       "0.7427384428079196"
      ]
     },
     "execution_count": 30,
     "metadata": {},
     "output_type": "execute_result"
    }
   ],
   "source": [
    "#Train R-Square\n",
    "model.score(X_train,y_train)"
   ]
  },
  {
   "cell_type": "markdown",
   "id": "b2790e8a",
   "metadata": {},
   "source": [
    "**Checklist**"
   ]
  },
  {
   "cell_type": "code",
   "execution_count": 31,
   "id": "c819eb5e",
   "metadata": {},
   "outputs": [
    {
     "name": "stdout",
     "output_type": "stream",
     "text": [
      "[0.75332067 0.79544003 0.76534088 0.74881394 0.65903234]\n",
      "Cross Validation Score: 0.7443895704502623\n"
     ]
    }
   ],
   "source": [
    "from sklearn.model_selection import cross_val_score\n",
    "scores=cross_val_score(model,X,y,cv=5)\n",
    "print(scores)\n",
    "cv_score=scores.mean()\n",
    "print('Cross Validation Score:',cv_score)"
   ]
  },
  {
   "cell_type": "markdown",
   "id": "724e61ec",
   "metadata": {},
   "source": [
    "# Check for Assumptions**\n",
    "\n",
    "* 1. Linearity off Error"
   ]
  },
  {
   "cell_type": "code",
   "execution_count": 32,
   "id": "8ed254d5",
   "metadata": {},
   "outputs": [],
   "source": [
    "test_res=y_test-test_predictions"
   ]
  },
  {
   "cell_type": "code",
   "execution_count": 33,
   "id": "055ed5b9",
   "metadata": {},
   "outputs": [
    {
     "data": {
      "image/png": "[encoded data removed]",
      "text/plain": [
       "<Figure size 640x480 with 1 Axes>"
      ]
     },
     "metadata": {},
     "output_type": "display_data"
    }
   ],
   "source": [
    "plt.scatter(y_test,test_res)\n",
    "plt.xlabel('observed_values')\n",
    "plt.ylabel('fitted_values')\n",
    "plt.show()"
   ]
  },
  {
   "cell_type": "markdown",
   "id": "3023ca1b",
   "metadata": {},
   "source": [
    "**2.Normality of Errors**"
   ]
  },
  {
   "cell_type": "code",
   "execution_count": 35,
   "id": "d79b64b7",
   "metadata": {},
   "outputs": [
    {
     "data": {
      "image/png": "[encoded data removed]",
      "text/plain": [
       "<Figure size 500x500 with 1 Axes>"
      ]
     },
     "metadata": {},
     "output_type": "display_data"
    }
   ],
   "source": [
    "sns.displot(test_res,kde=True)\n",
    "\n",
    "#plt.hist(test_result)\n",
    "plt.show()"
   ]
  },
  {
   "cell_type": "markdown",
   "id": "412cf00e",
   "metadata": {},
   "source": [
    "**3.Equal variance of Errors(Homoscadesicity)**"
   ]
  },
  {
   "cell_type": "code",
   "execution_count": 36,
   "id": "25a3219c",
   "metadata": {},
   "outputs": [
    {
     "data": {
      "image/png": "[encoded data removed]",
      "text/plain": [
       "<Figure size 640x480 with 1 Axes>"
      ]
     },
     "metadata": {},
     "output_type": "display_data"
    }
   ],
   "source": [
    "plt.scatter(test_predictions,test_res,c='r')\n",
    "plt.axhline(y=0,color='blue')\n",
    "plt.xlabel('fitted_values')\n",
    "plt.ylabel('reesiduals')\n",
    "plt.show()"
   ]
  },
  {
   "cell_type": "markdown",
   "id": "d0982048",
   "metadata": {},
   "source": [
    "**Variable significance**"
   ]
  },
  {
   "cell_type": "code",
   "execution_count": 42,
   "id": "2f5250dc",
   "metadata": {},
   "outputs": [
    {
     "data": {
      "text/html": [
       "<table class=\"simpletable\">\n",
       "<caption>OLS Regression Results</caption>\n",
       "<tr>\n",
       "  <th>Dep. Variable:</th>            <td>y</td>        <th>  R-squared:         </th> <td>   0.754</td>\n",
       "</tr>\n",
       "<tr>\n",
       "  <th>Model:</th>                   <td>OLS</td>       <th>  Adj. R-squared:    </th> <td>   0.753</td>\n",
       "</tr>\n",
       "<tr>\n",
       "  <th>Method:</th>             <td>Least Squares</td>  <th>  F-statistic:       </th> <td>   606.2</td>\n",
       "</tr>\n",
       "<tr>\n",
       "  <th>Date:</th>             <td>Fri, 20 Jan 2023</td> <th>  Prob (F-statistic):</th> <td>3.56e-62</td>\n",
       "</tr>\n",
       "<tr>\n",
       "  <th>Time:</th>                 <td>06:08:36</td>     <th>  Log-Likelihood:    </th> <td> -1855.1</td>\n",
       "</tr>\n",
       "<tr>\n",
       "  <th>No. Observations:</th>      <td>   200</td>      <th>  AIC:               </th> <td>   3714.</td>\n",
       "</tr>\n",
       "<tr>\n",
       "  <th>Df Residuals:</th>          <td>   198</td>      <th>  BIC:               </th> <td>   3721.</td>\n",
       "</tr>\n",
       "<tr>\n",
       "  <th>Df Model:</th>              <td>     1</td>      <th>                     </th>     <td> </td>   \n",
       "</tr>\n",
       "<tr>\n",
       "  <th>Covariance Type:</th>      <td>nonrobust</td>    <th>                     </th>     <td> </td>   \n",
       "</tr>\n",
       "</table>\n",
       "<table class=\"simpletable\">\n",
       "<tr>\n",
       "      <td></td>         <th>coef</th>     <th>std err</th>      <th>t</th>      <th>P>|t|</th>  <th>[0.025</th>    <th>0.975]</th>  \n",
       "</tr>\n",
       "<tr>\n",
       "  <th>Intercept</th> <td> 4233.7480</td> <td>  437.884</td> <td>    9.669</td> <td> 0.000</td> <td> 3370.234</td> <td> 5097.262</td>\n",
       "</tr>\n",
       "<tr>\n",
       "  <th>X</th>         <td>    0.0488</td> <td>    0.002</td> <td>   24.621</td> <td> 0.000</td> <td>    0.045</td> <td>    0.053</td>\n",
       "</tr>\n",
       "</table>\n",
       "<table class=\"simpletable\">\n",
       "<tr>\n",
       "  <th>Omnibus:</th>       <td> 7.298</td> <th>  Durbin-Watson:     </th> <td>   1.965</td>\n",
       "</tr>\n",
       "<tr>\n",
       "  <th>Prob(Omnibus):</th> <td> 0.026</td> <th>  Jarque-Bera (JB):  </th> <td>   7.221</td>\n",
       "</tr>\n",
       "<tr>\n",
       "  <th>Skew:</th>          <td>-0.385</td> <th>  Prob(JB):          </th> <td>  0.0270</td>\n",
       "</tr>\n",
       "<tr>\n",
       "  <th>Kurtosis:</th>      <td> 3.524</td> <th>  Cond. No.          </th> <td>5.27e+05</td>\n",
       "</tr>\n",
       "</table><br/><br/>Notes:<br/>[1] Standard Errors assume that the covariance matrix of the errors is correctly specified.<br/>[2] The condition number is large, 5.27e+05. This might indicate that there are<br/>strong multicollinearity or other numerical problems."
      ],
      "text/plain": [
       "<class 'statsmodels.iolib.summary.Summary'>\n",
       "\"\"\"\n",
       "                            OLS Regression Results                            \n",
       "==============================================================================\n",
       "Dep. Variable:                      y   R-squared:                       0.754\n",
       "Model:                            OLS   Adj. R-squared:                  0.753\n",
       "Method:                 Least Squares   F-statistic:                     606.2\n",
       "Date:                Fri, 20 Jan 2023   Prob (F-statistic):           3.56e-62\n",
       "Time:                        06:08:36   Log-Likelihood:                -1855.1\n",
       "No. Observations:                 200   AIC:                             3714.\n",
       "Df Residuals:                     198   BIC:                             3721.\n",
       "Df Model:                           1                                         \n",
       "Covariance Type:            nonrobust                                         \n",
       "==============================================================================\n",
       "                 coef    std err          t      P>|t|      [0.025      0.975]\n",
       "------------------------------------------------------------------------------\n",
       "Intercept   4233.7480    437.884      9.669      0.000    3370.234    5097.262\n",
       "X              0.0488      0.002     24.621      0.000       0.045       0.053\n",
       "==============================================================================\n",
       "Omnibus:                        7.298   Durbin-Watson:                   1.965\n",
       "Prob(Omnibus):                  0.026   Jarque-Bera (JB):                7.221\n",
       "Skew:                          -0.385   Prob(JB):                       0.0270\n",
       "Kurtosis:                       3.524   Cond. No.                     5.27e+05\n",
       "==============================================================================\n",
       "\n",
       "Notes:\n",
       "[1] Standard Errors assume that the covariance matrix of the errors is correctly specified.\n",
       "[2] The condition number is large, 5.27e+05. This might indicate that there are\n",
       "strong multicollinearity or other numerical problems.\n",
       "\"\"\""
      ]
     },
     "execution_count": 42,
     "metadata": {},
     "output_type": "execute_result"
    }
   ],
   "source": [
    "import statsmodels.formula.api as smf\n",
    "model2=smf.ols(\"y~X\",data=df).fit()\n",
    "model2.summary()"
   ]
  },
  {
   "cell_type": "markdown",
   "id": "1ec88b0b",
   "metadata": {},
   "source": [
    "# Step-6: Final Inferences\n",
    "* Our next ad campaign will  have a total spend of 200k on ads,how many units could we expect to sell as a result of this?"
   ]
  },
  {
   "cell_type": "code",
   "execution_count": 43,
   "id": "fab69a47",
   "metadata": {},
   "outputs": [
    {
     "name": "stderr",
     "output_type": "stream",
     "text": [
      "G:\\ANACONDA\\lib\\site-packages\\sklearn\\base.py:450: UserWarning: X does not have valid feature names, but LinearRegression was fitted with feature names\n",
      "  warnings.warn(\n"
     ]
    },
    {
     "data": {
      "text/plain": [
       "array([19912.23364066])"
      ]
     },
     "execution_count": 43,
     "metadata": {},
     "output_type": "execute_result"
    }
   ],
   "source": [
    "#use the model to make prediction a new value\n",
    "model.predict([[321400]])"
   ]
  },
  {
   "cell_type": "markdown",
   "id": "efd2f4d3",
   "metadata": {},
   "source": [
    "**Save a model**"
   ]
  },
  {
   "cell_type": "code",
   "execution_count": 44,
   "id": "47346591",
   "metadata": {},
   "outputs": [
    {
     "data": {
      "text/plain": [
       "['sales_model.joblib']"
      ]
     },
     "execution_count": 44,
     "metadata": {},
     "output_type": "execute_result"
    }
   ],
   "source": [
    "from joblib import dump\n",
    "dump(model,'sales_model.joblib')"
   ]
  },
  {
   "cell_type": "markdown",
   "id": "a28dfec2",
   "metadata": {},
   "source": [
    "**Load a Model**"
   ]
  },
  {
   "cell_type": "code",
   "execution_count": 47,
   "id": "c02c8593",
   "metadata": {},
   "outputs": [
    {
     "name": "stderr",
     "output_type": "stream",
     "text": [
      "G:\\ANACONDA\\lib\\site-packages\\sklearn\\base.py:450: UserWarning: X does not have valid feature names, but LinearRegression was fitted with feature names\n",
      "  warnings.warn(\n"
     ]
    },
    {
     "data": {
      "text/plain": [
       "array([14033.45659187])"
      ]
     },
     "execution_count": 47,
     "metadata": {},
     "output_type": "execute_result"
    }
   ],
   "source": [
    "from joblib import load\n",
    "loaded_model=load('sales_model.joblib')\n",
    "loaded_model.predict([[200000]])"
   ]
  },
  {
   "cell_type": "code",
   "execution_count": null,
   "id": "dfc0a803",
   "metadata": {},
   "outputs": [],
   "source": []
  }
 ],
 "metadata": {
  "kernelspec": {
   "display_name": "Python 3 (ipykernel)",
   "language": "python",
   "name": "python3"
  },
  "language_info": {
   "codemirror_mode": {
    "name": "ipython",
    "version": 3
   },
   "file_extension": ".py",
   "mimetype": "text/x-python",
   "name": "python",
   "nbconvert_exporter": "python",
   "pygments_lexer": "ipython3",
   "version": "3.9.13"
  }
 },
 "nbformat": 4,
 "nbformat_minor": 5
}
