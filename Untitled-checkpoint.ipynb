{
 "cells": [
  {
   "cell_type": "code",
   "execution_count": 2,
   "id": "bf15441a",
   "metadata": {},
   "outputs": [
    {
     "name": "stdout",
     "output_type": "stream",
     "text": [
      "🤗\n"
     ]
    }
   ],
   "source": [
    "print('\\U0001F917')"
   ]
  },
  {
   "cell_type": "code",
   "execution_count": null,
   "id": "4bd7993b",
   "metadata": {},
   "outputs": [],
   "source": [
    "a"
   ]
  },
  {
   "cell_type": "code",
   "execution_count": 3,
   "id": "3ea1cf1f",
   "metadata": {},
   "outputs": [
    {
     "name": "stdout",
     "output_type": "stream",
     "text": [
      "😷\n"
     ]
    }
   ],
   "source": [
    "print('\\U0001F637')"
   ]
  },
  {
   "cell_type": "code",
   "execution_count": 4,
   "id": "f027c9a9",
   "metadata": {},
   "outputs": [
    {
     "name": "stdout",
     "output_type": "stream",
     "text": [
      "😪\n"
     ]
    }
   ],
   "source": [
    "print('\\U0001F62A')"
   ]
  },
  {
   "cell_type": "code",
   "execution_count": 5,
   "id": "3df4400d",
   "metadata": {},
   "outputs": [
    {
     "name": "stdout",
     "output_type": "stream",
     "text": [
      "😘\n"
     ]
    }
   ],
   "source": [
    "print('\\U0001F618')"
   ]
  },
  {
   "cell_type": "code",
   "execution_count": 6,
   "id": "262ed4e7",
   "metadata": {},
   "outputs": [
    {
     "name": "stdout",
     "output_type": "stream",
     "text": [
      "😀\n"
     ]
    }
   ],
   "source": [
    "print('\\U0001F600')"
   ]
  },
  {
   "cell_type": "code",
   "execution_count": 7,
   "id": "df67bc36",
   "metadata": {},
   "outputs": [
    {
     "name": "stdout",
     "output_type": "stream",
     "text": [
      "🤘\n"
     ]
    }
   ],
   "source": [
    "print('\\U0001F918')"
   ]
  },
  {
   "cell_type": "markdown",
   "id": "48e42f03",
   "metadata": {},
   "source": [
    "\t\t\t=========================================================\n",
    "\t\t\t\t\t4. Logical Operators  ( comparison )\n",
    "\t\t\t=========================================================\n",
    "=>The purpose of Logical Operators is that \"To Combine Two or More Relational Expressions\".\n",
    "=>If two or more Relational Expressions connected with Logical Operators then we call as \"Logical Expression\" \n",
    "    or \"Compund Condition (More than one Condition) \".\n",
    "=>The Result of \"Logical Expression\" gives either True or False.\n",
    "=>In Python Programming, we have 3 types of Logical Operators. They are given in the following Table.\n",
    "----------------------------------------------------------------------------------------------------------------------------\n",
    "\t\tSLNO\t\tSYMBOL\t\t\tMEANING\n",
    "----------------------------------------------------------------------------------------------------------------------------\n",
    "\t\t1.\t\t\tand\t\t\t\tPhysical ANDing\n",
    "\n",
    "\t\t2.\t\t\tor\t\t\t\tPhysical ORing\n",
    "\n",
    "\t\t3.\t\t\tnot\t\t\t\t--------------------------\n",
    "----------------------------------------------------------------------------------------------------------------------------\n",
    "1. \"and\" Operator\n",
    "----------------------------------------------------------------------------------------------------------------------------\n",
    "=>The Functionality of \"and\" operator is expressed in the following Truth table.\n",
    "=>Syntax:    varname= RelExpr1  and  RelExpr2\n",
    "\t\t\t--------------------------------------------------------------------------------\n",
    "\t\t\tRelExpr1\t\tRelExpr2\t\tRelExpr1  and  RelExpr2\n",
    "\t\t\t--------------------------------------------------------------------------------\n",
    "\t\t\t\tTrue\t\tFalse\t\t\tFalse\n",
    "\t\t\t\tFalse\tTrue\t\t\t\tFalse\n",
    "\t\t\t\tFalse\tFalse\t\t\tFalse\n",
    "\t\t\t\tTrue\t\tTrue\t\t\t\tTrue\n",
    "\t\t\t-------------------------------------------------------------------------------\n",
    "Examples:\n",
    "-----------------\n",
    ">>> print(10>20 and 20>30)---------------False---Short Circuit Evaluation\n",
    ">>> print(10>-20 and 20>30)------------False\n",
    ">>> print(10>20 and 30>=30)-----------False---Short Circuit Evaluation\n",
    ">>> print(10>20 and 20>10 and 30>2)---False---Short Circuit Evaluation\n",
    ">>> print(10>2 and 20>10 and 30>2)---True\n",
    ">>> print(10>2 and 10>40 and 20>10 and 10>67)----False--Short Circuit Evaluation\n",
    "---------------------------------------------------------------------------------\n",
    "Short Circuit Evaluation in the case of \"and\" operator:\n",
    "---------------------------------------------------------------------------------\n",
    "=>If \"and\" operator connects with Multiple Relational Expressions and if Initiaa Relational Expression Result is False then PVM will not evaluate Rest of the Relational Expressions and Result of Entire Logical Expression will be considered as False. This Process of Evaluation is called \"Short Circuit Evaluation\".\n",
    "==================================================================================\n",
    "----------------------------------------------------------------------------------------------------------------------------\n",
    "2. \"or\" Operator\n",
    "----------------------------------------------------------------------------------------------------------------------------\n",
    "=>The Functionality of \"or\" operator is expressed in the following Truth table.\n",
    "=>Syntax:    varname= RelExpr1 or   RelExpr2\n",
    "\t\t\t--------------------------------------------------------------------------------\n",
    "\t\t\tRelExpr1\t\tRelExpr2\t\tRelExpr1  or  RelExpr2\n",
    "\t\t\t--------------------------------------------------------------------------------\n",
    "\t\t\t\tTrue\t\tFalse\t\t\tTrue\n",
    "\t\t\t\tFalse\tTrue\t\t\t\tTrue\n",
    "\t\t\t\tFalse\tFalse\t\t\tFalse\n",
    "\t\t\t\tTrue\t\tTrue\t\t\t\tTrue\n",
    "\t\t\t-------------------------------------------------------------------------------\n",
    "Examples:\n",
    "-------------------------\n",
    ">>> print(10>20 or 10>2)---------True\n",
    ">>> print(10>2 or 10>20)--------True----Short Circuit Evaluation\n",
    ">>> print(100>2 or 100>200 or 100!=100)----True----Short Circuit Evaluation\n",
    ">>> print(100>200 or 100!=200 or 100>300)----True--Short Circuit Evaluation\n",
    "--------------------------------------------------------------------------------\n",
    "Short Circuit Evaluation in the case of \"or\" operator:\n",
    "---------------------------------------------------------------------------------\n",
    "=>If \"or\" operator connects with Multiple Relational Expressions and if Initla Relational Expression Result is True then PVM will not evaluate Rest of the Relational Expressions and Result of Entire Logical Expression will be considered as True. This Process of Evaluation is called \"Short Circuit Evaluation\".\n",
    "----------------------------------------------------------------------------------------------------------------------------\n",
    "3. \"not\" Operator\n",
    "----------------------------------------------------------------------------------------------------------------------------\n",
    "=>The Functionality of \"not\" operator is expressed in the following Truth table.\n",
    "=>Syntax:    varname= not RelExpr\n",
    "=>Syntax:    varname= not Logical Expr\n",
    "\n",
    "\t\t\t--------------------------------------------------------------------------------\n",
    "\t\t\t    RelExpr1\t\tnot RelExpr1\t\n",
    "\t\t\t--------------------------------------------------------------------------------\n",
    "\t\t\t\tTrue\t\t\tFalse\t\t\t\n",
    "\t\t\t\tFalse\t\tTrue\t\t\t\t\n",
    "\t\t\t-------------------------------------------------------------------------------\n",
    "Examples:\n",
    "-------------------------\n",
    ">>> a=True\n",
    ">>> not a-------------------False\n",
    ">>> a=False\n",
    ">>> not a----------------True\n",
    ">>> print(10>2 and 200>100)----------True\n",
    ">>> print(not (10>2 and 200>100) )-----False\n",
    ">>> print(10>2 or 200>1000)--------True\n",
    ">>> print(not (10>2 or 200>1000) )------False\n",
    ">>> print(not True)----------------------------False\n",
    ">>> print(not False)-------------------------True\n",
    ">>> print(not 100)--------------------------False\n",
    ">>> print(not -100)-------------------------False\n",
    ">>> print(not 0)------------------------------True\n",
    ">>> print(not \"PYTHON\")-----------------False\n",
    ">>> print(not \"\")---------------------------True\n",
    ">>> print(not \" \")-------------------------False\n",
    "----------------------------------------------------------------------------------------------------------\n",
    "Next Level Questions\n",
    "----------------------------------------------------------------------------------------------------------\n",
    "\t#and operator\n",
    ">>> 100 and 200----------------200\n",
    ">>> -120 and 234--------------234\n",
    ">>> 123 and 0----------------0\n",
    ">>> -123 and 345 and 3------------3\n",
    ">>> \"KVR\" and \"PYThon\" and 123-------123\n",
    ">>> \"KVR\" and \"PYThon\" and 123-123-------0\n",
    ">>> \"Java\" and \"\" and \"Python\" --------- ''\n",
    ">>> #OR Operator\n",
    ">>> 10 or 20---------------10\n",
    ">>> 100 or 0----------------100\n",
    ">>> 0 or 100-------------100\n",
    ">>> 0 or 200 or 0---------200\n",
    ">>> \"Python\" or \"Java\"-----------'Python'\n",
    ">>> not \"python\" ----------------False\n",
    ">>> not \"\"   -----------------------True\n",
    "#both 'and' and 'or' Operator ( Internally 'and' will be evaluated First and later 'or' Operator)\n",
    ">>> 100 or 200 and 300-------------100\n",
    ">>> 100 and 200 or 120 or 234 and 12--------200\n",
    ">>> 10 or 20 or 400 and 200 and 100-----10\n",
    "=======================================x===================================\n",
    "\n",
    "\n"
   ]
  }
 ],
 "metadata": {
  "kernelspec": {
   "display_name": "Python 3 (ipykernel)",
   "language": "python",
   "name": "python3"
  },
  "language_info": {
   "codemirror_mode": {
    "name": "ipython",
    "version": 3
   },
   "file_extension": ".py",
   "mimetype": "text/x-python",
   "name": "python",
   "nbconvert_exporter": "python",
   "pygments_lexer": "ipython3",
   "version": "3.9.13"
  }
 },
 "nbformat": 4,
 "nbformat_minor": 5
}
